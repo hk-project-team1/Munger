{
 "cells": [
  {
   "cell_type": "code",
   "execution_count": 1,
   "metadata": {},
   "outputs": [],
   "source": [
    "import pandas as pd"
   ]
  },
  {
   "cell_type": "code",
   "execution_count": 3,
   "metadata": {},
   "outputs": [
    {
     "data": {
      "text/html": [
       "<div>\n",
       "<style scoped>\n",
       "    .dataframe tbody tr th:only-of-type {\n",
       "        vertical-align: middle;\n",
       "    }\n",
       "\n",
       "    .dataframe tbody tr th {\n",
       "        vertical-align: top;\n",
       "    }\n",
       "\n",
       "    .dataframe thead th {\n",
       "        text-align: right;\n",
       "    }\n",
       "</style>\n",
       "<table border=\"1\" class=\"dataframe\">\n",
       "  <thead>\n",
       "    <tr style=\"text-align: right;\">\n",
       "      <th></th>\n",
       "      <th>종목명</th>\n",
       "      <th>종목코드</th>\n",
       "      <th>시가총액</th>\n",
       "      <th>매출액</th>\n",
       "      <th>현금흐름</th>\n",
       "      <th>PER</th>\n",
       "      <th>ROE</th>\n",
       "      <th>ROA</th>\n",
       "      <th>PBR</th>\n",
       "      <th>PSR</th>\n",
       "      <th>PCR</th>\n",
       "      <th>자산총계</th>\n",
       "      <th>부채총계</th>\n",
       "      <th>자본총계</th>\n",
       "      <th>주당순이익</th>\n",
       "    </tr>\n",
       "  </thead>\n",
       "  <tbody>\n",
       "    <tr>\n",
       "      <th>0</th>\n",
       "      <td>셀트리온헬스케어</td>\n",
       "      <td>91990</td>\n",
       "      <td>104821</td>\n",
       "      <td>16276</td>\n",
       "      <td>-226.1</td>\n",
       "      <td>63.77</td>\n",
       "      <td>13.36</td>\n",
       "      <td>7.30</td>\n",
       "      <td>5.22</td>\n",
       "      <td>6.440219</td>\n",
       "      <td>-463.604600</td>\n",
       "      <td>37397</td>\n",
       "      <td>18068</td>\n",
       "      <td>19329</td>\n",
       "      <td>1060</td>\n",
       "    </tr>\n",
       "    <tr>\n",
       "      <th>1</th>\n",
       "      <td>엘앤에프</td>\n",
       "      <td>66970</td>\n",
       "      <td>71013</td>\n",
       "      <td>3561</td>\n",
       "      <td>452.7</td>\n",
       "      <td>-181.01</td>\n",
       "      <td>-9.39</td>\n",
       "      <td>-3.40</td>\n",
       "      <td>9.04</td>\n",
       "      <td>19.941870</td>\n",
       "      <td>156.865474</td>\n",
       "      <td>4662</td>\n",
       "      <td>2686</td>\n",
       "      <td>1976</td>\n",
       "      <td>-1127</td>\n",
       "    </tr>\n",
       "    <tr>\n",
       "      <th>2</th>\n",
       "      <td>펄어비스</td>\n",
       "      <td>263750</td>\n",
       "      <td>67281</td>\n",
       "      <td>4888</td>\n",
       "      <td>1574.3</td>\n",
       "      <td>130.26</td>\n",
       "      <td>16.45</td>\n",
       "      <td>11.43</td>\n",
       "      <td>8.68</td>\n",
       "      <td>13.764525</td>\n",
       "      <td>42.737090</td>\n",
       "      <td>8972</td>\n",
       "      <td>2603</td>\n",
       "      <td>6369</td>\n",
       "      <td>780</td>\n",
       "    </tr>\n",
       "  </tbody>\n",
       "</table>\n",
       "</div>"
      ],
      "text/plain": [
       "        종목명    종목코드    시가총액    매출액    현금흐름     PER    ROE    ROA   PBR  \\\n",
       "0  셀트리온헬스케어   91990  104821  16276  -226.1   63.77  13.36   7.30  5.22   \n",
       "1      엘앤에프   66970   71013   3561   452.7 -181.01  -9.39  -3.40  9.04   \n",
       "2      펄어비스  263750   67281   4888  1574.3  130.26  16.45  11.43  8.68   \n",
       "\n",
       "         PSR         PCR   자산총계   부채총계   자본총계  주당순이익  \n",
       "0   6.440219 -463.604600  37397  18068  19329   1060  \n",
       "1  19.941870  156.865474   4662   2686   1976  -1127  \n",
       "2  13.764525   42.737090   8972   2603   6369    780  "
      ]
     },
     "execution_count": 3,
     "metadata": {},
     "output_type": "execute_result"
    }
   ],
   "source": [
    "df = pd.read_excel('./KOSDAQ0305.xlsx', engine='openpyxl')\n",
    "df.head(3)"
   ]
  },
  {
   "cell_type": "code",
   "execution_count": null,
   "metadata": {},
   "outputs": [],
   "source": []
  }
 ],
 "metadata": {
  "interpreter": {
   "hash": "b3ba2566441a7c06988d0923437866b63cedc61552a5af99d1f4fb67d367b25f"
  },
  "kernelspec": {
   "display_name": "Python 3.8.8 ('base')",
   "language": "python",
   "name": "python3"
  },
  "language_info": {
   "codemirror_mode": {
    "name": "ipython",
    "version": 3
   },
   "file_extension": ".py",
   "mimetype": "text/x-python",
   "name": "python",
   "nbconvert_exporter": "python",
   "pygments_lexer": "ipython3",
   "version": "3.8.8"
  },
  "orig_nbformat": 4
 },
 "nbformat": 4,
 "nbformat_minor": 2
}
