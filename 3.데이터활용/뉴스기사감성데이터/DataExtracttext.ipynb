{
 "cells": [
  {
   "cell_type": "code",
   "execution_count": 1,
   "metadata": {},
   "outputs": [],
   "source": [
    "import pandas as pd\n",
    "import openpyxl\n"
   ]
  },
  {
   "cell_type": "code",
   "execution_count": 103,
   "metadata": {},
   "outputs": [
    {
     "data": {
      "text/html": [
       "<div>\n",
       "<style scoped>\n",
       "    .dataframe tbody tr th:only-of-type {\n",
       "        vertical-align: middle;\n",
       "    }\n",
       "\n",
       "    .dataframe tbody tr th {\n",
       "        vertical-align: top;\n",
       "    }\n",
       "\n",
       "    .dataframe thead th {\n",
       "        text-align: right;\n",
       "    }\n",
       "</style>\n",
       "<table border=\"1\" class=\"dataframe\">\n",
       "  <thead>\n",
       "    <tr style=\"text-align: right;\">\n",
       "      <th></th>\n",
       "      <th>date</th>\n",
       "      <th>title</th>\n",
       "    </tr>\n",
       "  </thead>\n",
       "  <tbody>\n",
       "    <tr>\n",
       "      <th>58437</th>\n",
       "      <td>\\t\\t\\t\\t\\t\\t\\t\\n\\t\\t\\t\\t\\t\\t\\t\\t\\n\\t\\t\\t\\t\\t\\...</td>\n",
       "      <td>[특징주]제주반도체, 미중 투자 유치 소식에 이틀째 강세</td>\n",
       "    </tr>\n",
       "    <tr>\n",
       "      <th>58438</th>\n",
       "      <td>\\t\\t\\t\\t\\t\\t\\t\\n\\t\\t\\t\\t\\t\\t\\t\\t\\n\\t\\t\\t\\t\\t\\...</td>\n",
       "      <td>‘투자유치’ 제주반도체…6월 유증 데쟈뷰(?)</td>\n",
       "    </tr>\n",
       "    <tr>\n",
       "      <th>58439</th>\n",
       "      <td>\\t\\t\\t\\t\\t\\t\\t\\n\\t\\t\\t\\t\\t\\t\\t\\t\\n\\t\\t\\t\\t\\t\\...</td>\n",
       "      <td>[한경 Industry] 반도체·LCD 값 '뚝'…고부가 제품으로 승부수</td>\n",
       "    </tr>\n",
       "    <tr>\n",
       "      <th>58440</th>\n",
       "      <td>\\t\\t\\t\\t\\t\\t\\t\\n\\t\\t\\t\\t\\t\\t\\t\\t\\n\\t\\t\\t\\t\\t\\...</td>\n",
       "      <td>[한경 Industry] 삼성, 반도체·디스플레이 등 수출 비중 80% 넘어서</td>\n",
       "    </tr>\n",
       "    <tr>\n",
       "      <th>58441</th>\n",
       "      <td>\\t\\t\\t\\t\\t\\t\\t\\n\\t\\t\\t\\t\\t\\t\\t\\t\\n\\t\\t\\t\\t\\t\\...</td>\n",
       "      <td>제주반도체, '해외투자유치설' 조회공시 요구</td>\n",
       "    </tr>\n",
       "  </tbody>\n",
       "</table>\n",
       "</div>"
      ],
      "text/plain": [
       "                                                    date  \\\n",
       "58437   \\t\\t\\t\\t\\t\\t\\t\\n\\t\\t\\t\\t\\t\\t\\t\\t\\n\\t\\t\\t\\t\\t\\...   \n",
       "58438   \\t\\t\\t\\t\\t\\t\\t\\n\\t\\t\\t\\t\\t\\t\\t\\t\\n\\t\\t\\t\\t\\t\\...   \n",
       "58439   \\t\\t\\t\\t\\t\\t\\t\\n\\t\\t\\t\\t\\t\\t\\t\\t\\n\\t\\t\\t\\t\\t\\...   \n",
       "58440   \\t\\t\\t\\t\\t\\t\\t\\n\\t\\t\\t\\t\\t\\t\\t\\t\\n\\t\\t\\t\\t\\t\\...   \n",
       "58441   \\t\\t\\t\\t\\t\\t\\t\\n\\t\\t\\t\\t\\t\\t\\t\\t\\n\\t\\t\\t\\t\\t\\...   \n",
       "\n",
       "                                             title  \n",
       "58437              [특징주]제주반도체, 미중 투자 유치 소식에 이틀째 강세  \n",
       "58438                    ‘투자유치’ 제주반도체…6월 유증 데쟈뷰(?)  \n",
       "58439     [한경 Industry] 반도체·LCD 값 '뚝'…고부가 제품으로 승부수  \n",
       "58440  [한경 Industry] 삼성, 반도체·디스플레이 등 수출 비중 80% 넘어서  \n",
       "58441                     제주반도체, '해외투자유치설' 조회공시 요구  "
      ]
     },
     "execution_count": 103,
     "metadata": {},
     "output_type": "execute_result"
    }
   ],
   "source": [
    "df = pd.read_csv(\"./NewsFile.csv\", encoding='euc-kr')\n",
    "\n",
    "df.tail()"
   ]
  },
  {
   "cell_type": "code",
   "execution_count": null,
   "metadata": {},
   "outputs": [],
   "source": [
    "for temp in df.loc['date']:\n",
    "    df['date'] = temp.strip()\n",
    "\n",
    "\\s*\\(d[4])-(d[2])-(d[2])\\"
   ]
  },
  {
   "cell_type": "code",
   "execution_count": 57,
   "metadata": {},
   "outputs": [],
   "source": [
    "def extract(self,date):\n",
    "    self.date = date\n",
    "    for i in date:\n",
    "        date = date.str.replace(\"\\t\",'').str.replace('\\n','')[i].replace(\"-\",'')[:9]\n",
    "        return date"
   ]
  },
  {
   "cell_type": "code",
   "execution_count": 97,
   "metadata": {},
   "outputs": [
    {
     "data": {
      "text/plain": [
       "'20220312'"
      ]
     },
     "execution_count": 97,
     "metadata": {},
     "output_type": "execute_result"
    }
   ],
   "source": [
    "df['date'][100] = df['date'].str.replace(\"\\t\",'').str.replace('\\n','')[100].replace(\"-\",'')[:9].strip()\n",
    "df['date'][100]\n",
    "\n",
    "\n",
    "    "
   ]
  },
  {
   "cell_type": "code",
   "execution_count": 104,
   "metadata": {},
   "outputs": [
    {
     "data": {
      "text/plain": [
       "0        20220316\n",
       "1        20220316\n",
       "2        20220316\n",
       "3        20220316\n",
       "4        20220316\n",
       "           ...   \n",
       "58437    20151020\n",
       "58438    20151020\n",
       "58439    20151020\n",
       "58440    20151020\n",
       "58441    20151019\n",
       "Name: date, Length: 58442, dtype: object"
      ]
     },
     "execution_count": 104,
     "metadata": {},
     "output_type": "execute_result"
    }
   ],
   "source": [
    "for i in range(0, 58442):\n",
    "    df['date'][i] = df['date'].str.replace(\"\\t\",'').str.replace('\\n','')[i].replace(\"-\",'')[:9].strip()\n",
    "\n",
    "df['date']\n",
    "\n"
   ]
  },
  {
   "cell_type": "code",
   "execution_count": 105,
   "metadata": {},
   "outputs": [
    {
     "data": {
      "text/html": [
       "<div>\n",
       "<style scoped>\n",
       "    .dataframe tbody tr th:only-of-type {\n",
       "        vertical-align: middle;\n",
       "    }\n",
       "\n",
       "    .dataframe tbody tr th {\n",
       "        vertical-align: top;\n",
       "    }\n",
       "\n",
       "    .dataframe thead th {\n",
       "        text-align: right;\n",
       "    }\n",
       "</style>\n",
       "<table border=\"1\" class=\"dataframe\">\n",
       "  <thead>\n",
       "    <tr style=\"text-align: right;\">\n",
       "      <th></th>\n",
       "      <th>date</th>\n",
       "      <th>title</th>\n",
       "    </tr>\n",
       "  </thead>\n",
       "  <tbody>\n",
       "    <tr>\n",
       "      <th>58437</th>\n",
       "      <td>20151020</td>\n",
       "      <td>[특징주]제주반도체, 미중 투자 유치 소식에 이틀째 강세</td>\n",
       "    </tr>\n",
       "    <tr>\n",
       "      <th>58438</th>\n",
       "      <td>20151020</td>\n",
       "      <td>‘투자유치’ 제주반도체…6월 유증 데쟈뷰(?)</td>\n",
       "    </tr>\n",
       "    <tr>\n",
       "      <th>58439</th>\n",
       "      <td>20151020</td>\n",
       "      <td>[한경 Industry] 반도체·LCD 값 '뚝'…고부가 제품으로 승부수</td>\n",
       "    </tr>\n",
       "    <tr>\n",
       "      <th>58440</th>\n",
       "      <td>20151020</td>\n",
       "      <td>[한경 Industry] 삼성, 반도체·디스플레이 등 수출 비중 80% 넘어서</td>\n",
       "    </tr>\n",
       "    <tr>\n",
       "      <th>58441</th>\n",
       "      <td>20151019</td>\n",
       "      <td>제주반도체, '해외투자유치설' 조회공시 요구</td>\n",
       "    </tr>\n",
       "  </tbody>\n",
       "</table>\n",
       "</div>"
      ],
      "text/plain": [
       "           date                                        title\n",
       "58437  20151020              [특징주]제주반도체, 미중 투자 유치 소식에 이틀째 강세\n",
       "58438  20151020                    ‘투자유치’ 제주반도체…6월 유증 데쟈뷰(?)\n",
       "58439  20151020     [한경 Industry] 반도체·LCD 값 '뚝'…고부가 제품으로 승부수\n",
       "58440  20151020  [한경 Industry] 삼성, 반도체·디스플레이 등 수출 비중 80% 넘어서\n",
       "58441  20151019                     제주반도체, '해외투자유치설' 조회공시 요구"
      ]
     },
     "execution_count": 105,
     "metadata": {},
     "output_type": "execute_result"
    }
   ],
   "source": [
    "df.tail()"
   ]
  },
  {
   "cell_type": "code",
   "execution_count": 108,
   "metadata": {},
   "outputs": [],
   "source": [
    "df.to_csv(\"Newsfile2.csv\", encoding='euc-kr')"
   ]
  },
  {
   "cell_type": "code",
   "execution_count": 107,
   "metadata": {},
   "outputs": [
    {
     "data": {
      "text/html": [
       "<div>\n",
       "<style scoped>\n",
       "    .dataframe tbody tr th:only-of-type {\n",
       "        vertical-align: middle;\n",
       "    }\n",
       "\n",
       "    .dataframe tbody tr th {\n",
       "        vertical-align: top;\n",
       "    }\n",
       "\n",
       "    .dataframe thead th {\n",
       "        text-align: right;\n",
       "    }\n",
       "</style>\n",
       "<table border=\"1\" class=\"dataframe\">\n",
       "  <thead>\n",
       "    <tr style=\"text-align: right;\">\n",
       "      <th></th>\n",
       "      <th>Unnamed: 0</th>\n",
       "      <th>date</th>\n",
       "      <th>title</th>\n",
       "    </tr>\n",
       "  </thead>\n",
       "  <tbody>\n",
       "    <tr>\n",
       "      <th>0</th>\n",
       "      <td>0</td>\n",
       "      <td>20220316</td>\n",
       "      <td>유럽 반도체 공급망 지원 호응… 인텔, 10년간 110조 통큰 투자</td>\n",
       "    </tr>\n",
       "    <tr>\n",
       "      <th>1</th>\n",
       "      <td>1</td>\n",
       "      <td>20220316</td>\n",
       "      <td>한미 통상수장들, 오늘 SK가 투자한 美 반도체 웨이퍼 공장 방문</td>\n",
       "    </tr>\n",
       "    <tr>\n",
       "      <th>2</th>\n",
       "      <td>2</td>\n",
       "      <td>20220316</td>\n",
       "      <td>장덕현 삼성전기 사장 \"반도체 기판 위에 모든 시스템 통합하는 'SoS' 시장 이...</td>\n",
       "    </tr>\n",
       "    <tr>\n",
       "      <th>3</th>\n",
       "      <td>3</td>\n",
       "      <td>20220316</td>\n",
       "      <td>장덕현 삼성전기 사장 \"반도체 기판 SoS가 주도\"</td>\n",
       "    </tr>\n",
       "    <tr>\n",
       "      <th>4</th>\n",
       "      <td>4</td>\n",
       "      <td>20220316</td>\n",
       "      <td>SK실트론, 1조 투자해 반도체 웨이퍼 톱3 노려</td>\n",
       "    </tr>\n",
       "  </tbody>\n",
       "</table>\n",
       "</div>"
      ],
      "text/plain": [
       "   Unnamed: 0      date                                             title\n",
       "0           0  20220316             유럽 반도체 공급망 지원 호응… 인텔, 10년간 110조 통큰 투자\n",
       "1           1  20220316              한미 통상수장들, 오늘 SK가 투자한 美 반도체 웨이퍼 공장 방문\n",
       "2           2  20220316  장덕현 삼성전기 사장 \"반도체 기판 위에 모든 시스템 통합하는 'SoS' 시장 이...\n",
       "3           3  20220316                      장덕현 삼성전기 사장 \"반도체 기판 SoS가 주도\"\n",
       "4           4  20220316                       SK실트론, 1조 투자해 반도체 웨이퍼 톱3 노려"
      ]
     },
     "execution_count": 107,
     "metadata": {},
     "output_type": "execute_result"
    }
   ],
   "source": [
    "df1 = pd.read_csv(\"Newsfile1.csv\")\n",
    "df1.head()"
   ]
  },
  {
   "cell_type": "code",
   "execution_count": 111,
   "metadata": {},
   "outputs": [
    {
     "data": {
      "text/html": [
       "<div>\n",
       "<style scoped>\n",
       "    .dataframe tbody tr th:only-of-type {\n",
       "        vertical-align: middle;\n",
       "    }\n",
       "\n",
       "    .dataframe tbody tr th {\n",
       "        vertical-align: top;\n",
       "    }\n",
       "\n",
       "    .dataframe thead th {\n",
       "        text-align: right;\n",
       "    }\n",
       "</style>\n",
       "<table border=\"1\" class=\"dataframe\">\n",
       "  <thead>\n",
       "    <tr style=\"text-align: right;\">\n",
       "      <th></th>\n",
       "      <th>date</th>\n",
       "      <th>title</th>\n",
       "    </tr>\n",
       "  </thead>\n",
       "  <tbody>\n",
       "    <tr>\n",
       "      <th>0</th>\n",
       "      <td>20220316</td>\n",
       "      <td>유럽 반도체 공급망 지원 호응… 인텔, 10년간 110조 통큰 투자</td>\n",
       "    </tr>\n",
       "    <tr>\n",
       "      <th>1</th>\n",
       "      <td>20220316</td>\n",
       "      <td>한미 통상수장들, 오늘 SK가 투자한 美 반도체 웨이퍼 공장 방문</td>\n",
       "    </tr>\n",
       "    <tr>\n",
       "      <th>2</th>\n",
       "      <td>20220316</td>\n",
       "      <td>장덕현 삼성전기 사장 \"반도체 기판 위에 모든 시스템 통합하는 'SoS' 시장 이...</td>\n",
       "    </tr>\n",
       "    <tr>\n",
       "      <th>3</th>\n",
       "      <td>20220316</td>\n",
       "      <td>장덕현 삼성전기 사장 \"반도체 기판 SoS가 주도\"</td>\n",
       "    </tr>\n",
       "    <tr>\n",
       "      <th>4</th>\n",
       "      <td>20220316</td>\n",
       "      <td>SK실트론, 1조 투자해 반도체 웨이퍼 톱3 노려</td>\n",
       "    </tr>\n",
       "  </tbody>\n",
       "</table>\n",
       "</div>"
      ],
      "text/plain": [
       "       date                                             title\n",
       "0  20220316             유럽 반도체 공급망 지원 호응… 인텔, 10년간 110조 통큰 투자\n",
       "1  20220316              한미 통상수장들, 오늘 SK가 투자한 美 반도체 웨이퍼 공장 방문\n",
       "2  20220316  장덕현 삼성전기 사장 \"반도체 기판 위에 모든 시스템 통합하는 'SoS' 시장 이...\n",
       "3  20220316                      장덕현 삼성전기 사장 \"반도체 기판 SoS가 주도\"\n",
       "4  20220316                       SK실트론, 1조 투자해 반도체 웨이퍼 톱3 노려"
      ]
     },
     "execution_count": 111,
     "metadata": {},
     "output_type": "execute_result"
    }
   ],
   "source": [
    "df2 = pd.read_csv(\"Newsfile2.csv\", encoding='euc-kr')\n",
    "df2.head()"
   ]
  },
  {
   "cell_type": "code",
   "execution_count": 113,
   "metadata": {},
   "outputs": [],
   "source": [
    "df2['target'] = 0"
   ]
  },
  {
   "cell_type": "code",
   "execution_count": 114,
   "metadata": {},
   "outputs": [
    {
     "data": {
      "text/html": [
       "<div>\n",
       "<style scoped>\n",
       "    .dataframe tbody tr th:only-of-type {\n",
       "        vertical-align: middle;\n",
       "    }\n",
       "\n",
       "    .dataframe tbody tr th {\n",
       "        vertical-align: top;\n",
       "    }\n",
       "\n",
       "    .dataframe thead th {\n",
       "        text-align: right;\n",
       "    }\n",
       "</style>\n",
       "<table border=\"1\" class=\"dataframe\">\n",
       "  <thead>\n",
       "    <tr style=\"text-align: right;\">\n",
       "      <th></th>\n",
       "      <th>date</th>\n",
       "      <th>title</th>\n",
       "      <th>target</th>\n",
       "    </tr>\n",
       "  </thead>\n",
       "  <tbody>\n",
       "    <tr>\n",
       "      <th>0</th>\n",
       "      <td>20220316</td>\n",
       "      <td>유럽 반도체 공급망 지원 호응… 인텔, 10년간 110조 통큰 투자</td>\n",
       "      <td>0</td>\n",
       "    </tr>\n",
       "    <tr>\n",
       "      <th>1</th>\n",
       "      <td>20220316</td>\n",
       "      <td>한미 통상수장들, 오늘 SK가 투자한 美 반도체 웨이퍼 공장 방문</td>\n",
       "      <td>0</td>\n",
       "    </tr>\n",
       "    <tr>\n",
       "      <th>2</th>\n",
       "      <td>20220316</td>\n",
       "      <td>장덕현 삼성전기 사장 \"반도체 기판 위에 모든 시스템 통합하는 'SoS' 시장 이...</td>\n",
       "      <td>0</td>\n",
       "    </tr>\n",
       "    <tr>\n",
       "      <th>3</th>\n",
       "      <td>20220316</td>\n",
       "      <td>장덕현 삼성전기 사장 \"반도체 기판 SoS가 주도\"</td>\n",
       "      <td>0</td>\n",
       "    </tr>\n",
       "    <tr>\n",
       "      <th>4</th>\n",
       "      <td>20220316</td>\n",
       "      <td>SK실트론, 1조 투자해 반도체 웨이퍼 톱3 노려</td>\n",
       "      <td>0</td>\n",
       "    </tr>\n",
       "  </tbody>\n",
       "</table>\n",
       "</div>"
      ],
      "text/plain": [
       "       date                                             title  target\n",
       "0  20220316             유럽 반도체 공급망 지원 호응… 인텔, 10년간 110조 통큰 투자       0\n",
       "1  20220316              한미 통상수장들, 오늘 SK가 투자한 美 반도체 웨이퍼 공장 방문       0\n",
       "2  20220316  장덕현 삼성전기 사장 \"반도체 기판 위에 모든 시스템 통합하는 'SoS' 시장 이...       0\n",
       "3  20220316                      장덕현 삼성전기 사장 \"반도체 기판 SoS가 주도\"       0\n",
       "4  20220316                       SK실트론, 1조 투자해 반도체 웨이퍼 톱3 노려       0"
      ]
     },
     "execution_count": 114,
     "metadata": {},
     "output_type": "execute_result"
    }
   ],
   "source": [
    "df2.head()"
   ]
  },
  {
   "cell_type": "code",
   "execution_count": null,
   "metadata": {},
   "outputs": [],
   "source": []
  }
 ],
 "metadata": {
  "interpreter": {
   "hash": "d00489b331a4dfde3d428c99d10063d5001866a078e7563a68abe354ab152d2f"
  },
  "kernelspec": {
   "display_name": "Python 3.9.7",
   "language": "python",
   "name": "python3"
  },
  "language_info": {
   "codemirror_mode": {
    "name": "ipython",
    "version": 3
   },
   "file_extension": ".py",
   "mimetype": "text/x-python",
   "name": "python",
   "nbconvert_exporter": "python",
   "pygments_lexer": "ipython3",
   "version": "3.9.7"
  },
  "orig_nbformat": 4
 },
 "nbformat": 4,
 "nbformat_minor": 2
}
