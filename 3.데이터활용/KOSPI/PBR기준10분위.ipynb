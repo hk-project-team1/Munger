{
 "cells": [
  {
   "cell_type": "code",
   "execution_count": 1,
   "metadata": {},
   "outputs": [],
   "source": [
    "import pandas as pd"
   ]
  },
  {
   "cell_type": "code",
   "execution_count": 2,
   "metadata": {},
   "outputs": [
    {
     "data": {
      "text/html": [
       "<div>\n",
       "<style scoped>\n",
       "    .dataframe tbody tr th:only-of-type {\n",
       "        vertical-align: middle;\n",
       "    }\n",
       "\n",
       "    .dataframe tbody tr th {\n",
       "        vertical-align: top;\n",
       "    }\n",
       "\n",
       "    .dataframe thead th {\n",
       "        text-align: right;\n",
       "    }\n",
       "</style>\n",
       "<table border=\"1\" class=\"dataframe\">\n",
       "  <thead>\n",
       "    <tr style=\"text-align: right;\">\n",
       "      <th></th>\n",
       "      <th>종목명</th>\n",
       "      <th>종목코드</th>\n",
       "      <th>시가총액</th>\n",
       "      <th>매출액</th>\n",
       "      <th>현금흐름</th>\n",
       "      <th>PER</th>\n",
       "      <th>ROE</th>\n",
       "      <th>ROA</th>\n",
       "      <th>PBR</th>\n",
       "      <th>PSR</th>\n",
       "      <th>PCR</th>\n",
       "      <th>자산총계</th>\n",
       "      <th>부채총계</th>\n",
       "      <th>자본총계</th>\n",
       "      <th>주당순이익</th>\n",
       "    </tr>\n",
       "  </thead>\n",
       "  <tbody>\n",
       "    <tr>\n",
       "      <th>0</th>\n",
       "      <td>삼성전자</td>\n",
       "      <td>5930</td>\n",
       "      <td>4351971</td>\n",
       "      <td>2796048</td>\n",
       "      <td>651054.5</td>\n",
       "      <td>12.62</td>\n",
       "      <td>13.92</td>\n",
       "      <td>9.92</td>\n",
       "      <td>1.67</td>\n",
       "      <td>1.556472</td>\n",
       "      <td>6.684496</td>\n",
       "      <td>4266212</td>\n",
       "      <td>1217212</td>\n",
       "      <td>3049000</td>\n",
       "      <td>5777</td>\n",
       "    </tr>\n",
       "    <tr>\n",
       "      <th>1</th>\n",
       "      <td>SK하이닉스</td>\n",
       "      <td>660</td>\n",
       "      <td>939123</td>\n",
       "      <td>319004</td>\n",
       "      <td>123145.7</td>\n",
       "      <td>11.66</td>\n",
       "      <td>9.53</td>\n",
       "      <td>6.98</td>\n",
       "      <td>1.51</td>\n",
       "      <td>2.943922</td>\n",
       "      <td>7.626113</td>\n",
       "      <td>711739</td>\n",
       "      <td>192648</td>\n",
       "      <td>519091</td>\n",
       "      <td>11061</td>\n",
       "    </tr>\n",
       "    <tr>\n",
       "      <th>2</th>\n",
       "      <td>NAVER</td>\n",
       "      <td>35420</td>\n",
       "      <td>533980</td>\n",
       "      <td>53041</td>\n",
       "      <td>14472.1</td>\n",
       "      <td>3.22</td>\n",
       "      <td>15.22</td>\n",
       "      <td>5.77</td>\n",
       "      <td>2.05</td>\n",
       "      <td>10.067306</td>\n",
       "      <td>36.897202</td>\n",
       "      <td>170142</td>\n",
       "      <td>87591</td>\n",
       "      <td>82551</td>\n",
       "      <td>101024</td>\n",
       "    </tr>\n",
       "    <tr>\n",
       "      <th>3</th>\n",
       "      <td>카카오</td>\n",
       "      <td>35720</td>\n",
       "      <td>430799</td>\n",
       "      <td>41568</td>\n",
       "      <td>9711.0</td>\n",
       "      <td>38.03</td>\n",
       "      <td>2.70</td>\n",
       "      <td>1.68</td>\n",
       "      <td>4.76</td>\n",
       "      <td>10.363717</td>\n",
       "      <td>44.361961</td>\n",
       "      <td>119540</td>\n",
       "      <td>45262</td>\n",
       "      <td>74278</td>\n",
       "      <td>2540</td>\n",
       "    </tr>\n",
       "    <tr>\n",
       "      <th>4</th>\n",
       "      <td>LG화학</td>\n",
       "      <td>51910</td>\n",
       "      <td>393905</td>\n",
       "      <td>300765</td>\n",
       "      <td>58408.3</td>\n",
       "      <td>14.54</td>\n",
       "      <td>2.93</td>\n",
       "      <td>1.81</td>\n",
       "      <td>2.04</td>\n",
       "      <td>1.309677</td>\n",
       "      <td>6.743990</td>\n",
       "      <td>413889</td>\n",
       "      <td>225985</td>\n",
       "      <td>187904</td>\n",
       "      <td>38376</td>\n",
       "    </tr>\n",
       "  </tbody>\n",
       "</table>\n",
       "</div>"
      ],
      "text/plain": [
       "      종목명   종목코드     시가총액      매출액      현금흐름    PER    ROE   ROA   PBR  \\\n",
       "0    삼성전자   5930  4351971  2796048  651054.5  12.62  13.92  9.92  1.67   \n",
       "1  SK하이닉스    660   939123   319004  123145.7  11.66   9.53  6.98  1.51   \n",
       "2   NAVER  35420   533980    53041   14472.1   3.22  15.22  5.77  2.05   \n",
       "3     카카오  35720   430799    41568    9711.0  38.03   2.70  1.68  4.76   \n",
       "4    LG화학  51910   393905   300765   58408.3  14.54   2.93  1.81  2.04   \n",
       "\n",
       "         PSR        PCR     자산총계     부채총계     자본총계   주당순이익  \n",
       "0   1.556472   6.684496  4266212  1217212  3049000    5777  \n",
       "1   2.943922   7.626113   711739   192648   519091   11061  \n",
       "2  10.067306  36.897202   170142    87591    82551  101024  \n",
       "3  10.363717  44.361961   119540    45262    74278    2540  \n",
       "4   1.309677   6.743990   413889   225985   187904   38376  "
      ]
     },
     "execution_count": 2,
     "metadata": {},
     "output_type": "execute_result"
    }
   ],
   "source": [
    "df = pd.read_excel('./KOSPI데이터0305.xlsx', engine='openpyxl')\n",
    "df.head()"
   ]
  },
  {
   "cell_type": "code",
   "execution_count": 3,
   "metadata": {},
   "outputs": [
    {
     "data": {
      "text/html": [
       "<div>\n",
       "<style scoped>\n",
       "    .dataframe tbody tr th:only-of-type {\n",
       "        vertical-align: middle;\n",
       "    }\n",
       "\n",
       "    .dataframe tbody tr th {\n",
       "        vertical-align: top;\n",
       "    }\n",
       "\n",
       "    .dataframe thead th {\n",
       "        text-align: right;\n",
       "    }\n",
       "</style>\n",
       "<table border=\"1\" class=\"dataframe\">\n",
       "  <thead>\n",
       "    <tr style=\"text-align: right;\">\n",
       "      <th></th>\n",
       "      <th>종목명</th>\n",
       "      <th>PBR</th>\n",
       "    </tr>\n",
       "  </thead>\n",
       "  <tbody>\n",
       "    <tr>\n",
       "      <th>0</th>\n",
       "      <td>삼성전자</td>\n",
       "      <td>1.67</td>\n",
       "    </tr>\n",
       "    <tr>\n",
       "      <th>1</th>\n",
       "      <td>SK하이닉스</td>\n",
       "      <td>1.51</td>\n",
       "    </tr>\n",
       "    <tr>\n",
       "      <th>2</th>\n",
       "      <td>NAVER</td>\n",
       "      <td>2.05</td>\n",
       "    </tr>\n",
       "    <tr>\n",
       "      <th>3</th>\n",
       "      <td>카카오</td>\n",
       "      <td>4.76</td>\n",
       "    </tr>\n",
       "    <tr>\n",
       "      <th>4</th>\n",
       "      <td>LG화학</td>\n",
       "      <td>2.04</td>\n",
       "    </tr>\n",
       "  </tbody>\n",
       "</table>\n",
       "</div>"
      ],
      "text/plain": [
       "      종목명   PBR\n",
       "0    삼성전자  1.67\n",
       "1  SK하이닉스  1.51\n",
       "2   NAVER  2.05\n",
       "3     카카오  4.76\n",
       "4    LG화학  2.04"
      ]
     },
     "execution_count": 3,
     "metadata": {},
     "output_type": "execute_result"
    }
   ],
   "source": [
    "df_pbr = df[['종목명','PBR']]\n",
    "df_pbr.head()"
   ]
  },
  {
   "cell_type": "code",
   "execution_count": 21,
   "metadata": {},
   "outputs": [
    {
     "name": "stdout",
     "output_type": "stream",
     "text": [
      "<class 'pandas.core.frame.DataFrame'>\n",
      "Int64Index: 783 entries, 0 to 786\n",
      "Data columns (total 2 columns):\n",
      " #   Column  Non-Null Count  Dtype  \n",
      "---  ------  --------------  -----  \n",
      " 0   종목명     783 non-null    object \n",
      " 1   PBR     783 non-null    float64\n",
      "dtypes: float64(1), object(1)\n",
      "memory usage: 18.4+ KB\n"
     ]
    }
   ],
   "source": [
    "df_pbr=df_pbr[df_pbr.PBR > 0]\n",
    "df_pbr.info()"
   ]
  },
  {
   "cell_type": "code",
   "execution_count": 23,
   "metadata": {},
   "outputs": [
    {
     "data": {
      "text/html": [
       "<div>\n",
       "<style scoped>\n",
       "    .dataframe tbody tr th:only-of-type {\n",
       "        vertical-align: middle;\n",
       "    }\n",
       "\n",
       "    .dataframe tbody tr th {\n",
       "        vertical-align: top;\n",
       "    }\n",
       "\n",
       "    .dataframe thead th {\n",
       "        text-align: right;\n",
       "    }\n",
       "</style>\n",
       "<table border=\"1\" class=\"dataframe\">\n",
       "  <thead>\n",
       "    <tr style=\"text-align: right;\">\n",
       "      <th></th>\n",
       "      <th>종목명</th>\n",
       "      <th>PBR</th>\n",
       "    </tr>\n",
       "  </thead>\n",
       "  <tbody>\n",
       "    <tr>\n",
       "      <th>476</th>\n",
       "      <td>넥센</td>\n",
       "      <td>0.21</td>\n",
       "    </tr>\n",
       "    <tr>\n",
       "      <th>111</th>\n",
       "      <td>한화생명</td>\n",
       "      <td>0.20</td>\n",
       "    </tr>\n",
       "    <tr>\n",
       "      <th>303</th>\n",
       "      <td>HDC</td>\n",
       "      <td>0.18</td>\n",
       "    </tr>\n",
       "    <tr>\n",
       "      <th>697</th>\n",
       "      <td>경동인베스트</td>\n",
       "      <td>0.18</td>\n",
       "    </tr>\n",
       "    <tr>\n",
       "      <th>702</th>\n",
       "      <td>세원정공</td>\n",
       "      <td>0.18</td>\n",
       "    </tr>\n",
       "  </tbody>\n",
       "</table>\n",
       "</div>"
      ],
      "text/plain": [
       "        종목명   PBR\n",
       "476      넥센  0.21\n",
       "111    한화생명  0.20\n",
       "303     HDC  0.18\n",
       "697  경동인베스트  0.18\n",
       "702    세원정공  0.18"
      ]
     },
     "execution_count": 23,
     "metadata": {},
     "output_type": "execute_result"
    }
   ],
   "source": [
    "df_pbr1 = df_pbr.sort_values(by='PBR', ascending=False)\n",
    "df_pbr1.tail()"
   ]
  },
  {
   "cell_type": "code",
   "execution_count": 10,
   "metadata": {},
   "outputs": [
    {
     "name": "stdout",
     "output_type": "stream",
     "text": [
      "78\n",
      "156\n",
      "234\n",
      "312\n",
      "390\n",
      "468\n",
      "546\n",
      "624\n",
      "702\n",
      "780\n",
      "[78, 156, 234, 312, 390, 468, 546, 624, 702, 780]\n"
     ]
    }
   ],
   "source": [
    "a = 0\n",
    "number = []\n",
    "for i in range(0, 10):\n",
    "    a += 78\n",
    "    number.append(a)\n",
    "    print(a)\n",
    "print(number)"
   ]
  },
  {
   "cell_type": "code",
   "execution_count": 11,
   "metadata": {},
   "outputs": [
    {
     "data": {
      "text/plain": [
       "[78, 156, 234, 312, 390, 468, 546, 624, 702, 780]"
      ]
     },
     "execution_count": 11,
     "metadata": {},
     "output_type": "execute_result"
    }
   ],
   "source": [
    "number"
   ]
  },
  {
   "cell_type": "code",
   "execution_count": 17,
   "metadata": {},
   "outputs": [
    {
     "name": "stdout",
     "output_type": "stream",
     "text": [
      "78 156\n",
      "156 234\n",
      "234 312\n",
      "312 390\n",
      "390 468\n",
      "468 546\n",
      "546 624\n",
      "624 702\n",
      "702 780\n"
     ]
    },
    {
     "ename": "IndexError",
     "evalue": "list index out of range",
     "output_type": "error",
     "traceback": [
      "\u001b[1;31m---------------------------------------------------------------------------\u001b[0m",
      "\u001b[1;31mIndexError\u001b[0m                                Traceback (most recent call last)",
      "\u001b[1;32m<ipython-input-17-d8d691e02e25>\u001b[0m in \u001b[0;36m<module>\u001b[1;34m\u001b[0m\n\u001b[0;32m      2\u001b[0m \u001b[1;32mfor\u001b[0m \u001b[0mi\u001b[0m \u001b[1;32min\u001b[0m \u001b[0mrange\u001b[0m\u001b[1;33m(\u001b[0m\u001b[1;36m0\u001b[0m\u001b[1;33m,\u001b[0m \u001b[1;36m11\u001b[0m\u001b[1;33m)\u001b[0m\u001b[1;33m:\u001b[0m\u001b[1;33m\u001b[0m\u001b[1;33m\u001b[0m\u001b[0m\n\u001b[0;32m      3\u001b[0m     \u001b[0ma\u001b[0m \u001b[1;33m=\u001b[0m \u001b[0mnumber\u001b[0m\u001b[1;33m[\u001b[0m\u001b[0mi\u001b[0m\u001b[1;33m]\u001b[0m\u001b[1;33m\u001b[0m\u001b[1;33m\u001b[0m\u001b[0m\n\u001b[1;32m----> 4\u001b[1;33m     \u001b[0mb\u001b[0m \u001b[1;33m=\u001b[0m \u001b[0mnumber\u001b[0m\u001b[1;33m[\u001b[0m\u001b[0mi\u001b[0m\u001b[1;33m+\u001b[0m\u001b[1;36m1\u001b[0m\u001b[1;33m]\u001b[0m\u001b[1;33m\u001b[0m\u001b[1;33m\u001b[0m\u001b[0m\n\u001b[0m\u001b[0;32m      5\u001b[0m     \u001b[0mprint\u001b[0m\u001b[1;33m(\u001b[0m\u001b[0ma\u001b[0m\u001b[1;33m,\u001b[0m \u001b[0mb\u001b[0m\u001b[1;33m)\u001b[0m\u001b[1;33m\u001b[0m\u001b[1;33m\u001b[0m\u001b[0m\n",
      "\u001b[1;31mIndexError\u001b[0m: list index out of range"
     ]
    }
   ],
   "source": [
    "a = 0\n",
    "for i in range(0, 11):\n",
    "    a = number[i] \n",
    "    b = number[i+1]\n",
    "    print(a, b)"
   ]
  },
  {
   "cell_type": "code",
   "execution_count": 24,
   "metadata": {},
   "outputs": [
    {
     "data": {
      "text/html": [
       "<div>\n",
       "<style scoped>\n",
       "    .dataframe tbody tr th:only-of-type {\n",
       "        vertical-align: middle;\n",
       "    }\n",
       "\n",
       "    .dataframe tbody tr th {\n",
       "        vertical-align: top;\n",
       "    }\n",
       "\n",
       "    .dataframe thead th {\n",
       "        text-align: right;\n",
       "    }\n",
       "</style>\n",
       "<table border=\"1\" class=\"dataframe\">\n",
       "  <thead>\n",
       "    <tr style=\"text-align: right;\">\n",
       "      <th></th>\n",
       "      <th>종목명</th>\n",
       "      <th>PBR</th>\n",
       "    </tr>\n",
       "  </thead>\n",
       "  <tbody>\n",
       "    <tr>\n",
       "      <th>241</th>\n",
       "      <td>삼양홀딩스</td>\n",
       "      <td>0.37</td>\n",
       "    </tr>\n",
       "    <tr>\n",
       "      <th>502</th>\n",
       "      <td>신라교역</td>\n",
       "      <td>0.36</td>\n",
       "    </tr>\n",
       "    <tr>\n",
       "      <th>740</th>\n",
       "      <td>동일제강</td>\n",
       "      <td>0.36</td>\n",
       "    </tr>\n",
       "    <tr>\n",
       "      <th>488</th>\n",
       "      <td>일성신약</td>\n",
       "      <td>0.36</td>\n",
       "    </tr>\n",
       "    <tr>\n",
       "      <th>363</th>\n",
       "      <td>동양</td>\n",
       "      <td>0.36</td>\n",
       "    </tr>\n",
       "    <tr>\n",
       "      <th>...</th>\n",
       "      <td>...</td>\n",
       "      <td>...</td>\n",
       "    </tr>\n",
       "    <tr>\n",
       "      <th>476</th>\n",
       "      <td>넥센</td>\n",
       "      <td>0.21</td>\n",
       "    </tr>\n",
       "    <tr>\n",
       "      <th>111</th>\n",
       "      <td>한화생명</td>\n",
       "      <td>0.20</td>\n",
       "    </tr>\n",
       "    <tr>\n",
       "      <th>303</th>\n",
       "      <td>HDC</td>\n",
       "      <td>0.18</td>\n",
       "    </tr>\n",
       "    <tr>\n",
       "      <th>697</th>\n",
       "      <td>경동인베스트</td>\n",
       "      <td>0.18</td>\n",
       "    </tr>\n",
       "    <tr>\n",
       "      <th>702</th>\n",
       "      <td>세원정공</td>\n",
       "      <td>0.18</td>\n",
       "    </tr>\n",
       "  </tbody>\n",
       "</table>\n",
       "<p>81 rows × 2 columns</p>\n",
       "</div>"
      ],
      "text/plain": [
       "        종목명   PBR\n",
       "241   삼양홀딩스  0.37\n",
       "502    신라교역  0.36\n",
       "740    동일제강  0.36\n",
       "488    일성신약  0.36\n",
       "363      동양  0.36\n",
       "..      ...   ...\n",
       "476      넥센  0.21\n",
       "111    한화생명  0.20\n",
       "303     HDC  0.18\n",
       "697  경동인베스트  0.18\n",
       "702    세원정공  0.18\n",
       "\n",
       "[81 rows x 2 columns]"
      ]
     },
     "execution_count": 24,
     "metadata": {},
     "output_type": "execute_result"
    }
   ],
   "source": [
    "df_pbr1[:78]\n",
    "df_pbr1[78:156]\n",
    "df_pbr1[156:234]\n",
    "df_pbr1[234:312]\n",
    "df_pbr1[312:390]\n",
    "df_pbr1[390:468]\n",
    "df_pbr1[468:546]\n",
    "df_pbr1[546:624]\n",
    "df_pbr1[624:702]\n",
    "df_pbr1[702:]"
   ]
  },
  {
   "cell_type": "code",
   "execution_count": null,
   "metadata": {},
   "outputs": [],
   "source": []
  }
 ],
 "metadata": {
  "interpreter": {
   "hash": "b3ba2566441a7c06988d0923437866b63cedc61552a5af99d1f4fb67d367b25f"
  },
  "kernelspec": {
   "display_name": "Python 3.8.8 ('base')",
   "language": "python",
   "name": "python3"
  },
  "language_info": {
   "codemirror_mode": {
    "name": "ipython",
    "version": 3
   },
   "file_extension": ".py",
   "mimetype": "text/x-python",
   "name": "python",
   "nbconvert_exporter": "python",
   "pygments_lexer": "ipython3",
   "version": "3.8.8"
  },
  "orig_nbformat": 4
 },
 "nbformat": 4,
 "nbformat_minor": 2
}
