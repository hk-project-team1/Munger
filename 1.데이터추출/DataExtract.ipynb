{
 "cells": [
  {
   "cell_type": "code",
   "execution_count": 5,
   "metadata": {},
   "outputs": [],
   "source": [
    "import requests\n",
    "from bs4 import BeautifulSoup"
   ]
  },
  {
   "cell_type": "code",
   "execution_count": 7,
   "metadata": {},
   "outputs": [],
   "source": [
    "from fake_useragent import UserAgent\n",
    "headers = {\"User-Agent\" : 'Mozilla/5.0 (Windows NT 10.0; Win64; x64) AppleWebKit/537.36 (KHTML, like Gecko) Chrome/98.0.4758.102 Safari/537.36'}"
   ]
  },
  {
   "cell_type": "code",
   "execution_count": 8,
   "metadata": {},
   "outputs": [],
   "source": [
    "url = 'https://www.investing.com/equities/apple-computer-inc-financial-summary'\n",
    "response = requests.get(url, headers=headers)"
   ]
  },
  {
   "cell_type": "code",
   "execution_count": 10,
   "metadata": {},
   "outputs": [
    {
     "name": "stdout",
     "output_type": "stream",
     "text": [
      "<div class=\"companySummaryIncomeStatement\">\n",
      "<h3><a href=\"/equities/apple-computer-inc-income-statement\">AAPL Income Statement</a></h3>\n",
      "<div class=\"info float_lang_base_2\">\n",
      "<div class=\"infoLine\"><span class=\"float_lang_base_1\">Gross margin</span> <span class=\"lighterGrayFont arial_11\">TTM</span> <span class=\"float_lang_base_2 text_align_lang_base_2 dirLtr bold\"> 43.02%</span>\n",
      "<div class=\"clear\"></div>\n",
      "</div>\n",
      "<div class=\"infoLine\"><span class=\"float_lang_base_1\">Operating margin</span> <span class=\"lighterGrayFont arial_11\">TTM</span> <span class=\"float_lang_base_2 text_align_lang_base_2 dirLtr bold\"> 30.9%</span>\n",
      "<div class=\"clear\"></div>\n",
      "</div>\n",
      "<div class=\"infoLine\"><span class=\"float_lang_base_1\">Net Profit margin</span> <span class=\"lighterGrayFont arial_11\">TTM</span> <span class=\"float_lang_base_2 text_align_lang_base_2 dirLtr bold\"> 26.58%</span>\n",
      "<div class=\"clear\"></div>\n",
      "</div>\n",
      "<div class=\"infoLine\"><span class=\"float_lang_base_1\">Return on Investment</span> <span class=\"lighterGrayFont arial_11\">TTM</span> <span class=\"float_lang_base_2 text_align_lang_base_2 dirLtr bold\"> 44.18%</span>\n",
      "<div class=\"clear\"></div>\n",
      "</div>\n",
      "<div class=\"chartLegend\"> <span class=\"chartLegendItem inlineblock\"><span class=\"blueBox inlineblock\"></span> <span>Total Revenue</span></span> <span class=\"chartLegendItem inlineblock\"><span class=\"grayBox inlineblock\"></span> <span>Net Income</span></span> </div>\n",
      "</div>\n",
      "<div class=\"graph ChartPerfContainer float_lang_base_1\" id=\"ChartContainerINC\"><script type=\"text/javascript\">$(function () {var chart;var options;$(document).ready(function() {options = {\"chart\":{\"renderTo\":\"ChartContainerINC\",\"type\":\"column\",\"style\":{\"fontFamily\":\"Arial\"},\"marginLeft\":0,\"marginRight\":42,\"marginTop\":3,\"marginBottom\":36},\"title\":{\"text\":\"\"},\"xAxis\":{\"categories\":[\"Mar 21\",\"Jun 21\",\"Sep 21\",\"Dec 21\"],\"lineColor\":\"#668CB8\",\"lineWidth\":1,\"tickColor\":\"#668CB8\",\"tickLength\":6,\"gridLineColor\":\"#cfe3f4\",\"gridLineWidth\":0,\"labels\":{\"style\":{\"color\":\"#666666\",\"fontSize\":\"12px\",\"fontFamily\":\"calibri,arial\"},\"y\":10,\"x\":15,\"rotation\":-45,\"align\":\"right\"}},\"yAxis\":{\"lineColor\":\"#668CB8\",\"lineWidth\":1,\"gridLineColor\":\"#dadada\",\"tickPixelInterval\":50,\"offset\":-1,\"opposite\":true,\"title\":{\"text\":\"\"},\"labels\":{\"style\":{\"color\":\"#666666\",\"fontSize\":\"11px\",\"fontFamily\":\"arial\"},\"step\":0.5}},\"credits\":{\"enabled\":false},\"legend\":{\"enabled\":false},\"series\":[{\"name\":\"Total Revenue\",\"id\":\"one\",\"color\":\"#5D83AF\",\"data\":[89584000000,81434000000,83360000000,123945000000]},{\"name\":\"Net Income\",\"id\":\"two\",\"color\":\"#B2B2B2\",\"data\":[23630000000,21744000000,20551000000,34630000000]}],\"tooltip\":{\"borderColor\":\"#ababab\",\"backgroundColor\":\"rgba(0,0,0,0)\",\"borderRadius\":0,\"borderWidth\":0,\"shadow\":false,\"shared\":true,\"useHTML\":true},\"plotOptions\":{\"column\":{\"borderWidth\":0,\"shadow\":0}},\"exporting\":{\"enabled\":false}};options[\"tooltip\"][\"formatter\"] = tooltipFunction;options[\"tooltip\"][\"positioner\"] = tooltipPositionFunction; chart = new Highcharts.Chart(options);});});</script><div class=\"ChartPerfContainer\" id=\"ChartContainerINC\" style=\"min-width:305px;height:180px;margin:auto 0;direction:ltr;\"></div></div>\n",
      "<div class=\"clear\"></div>\n",
      "<table class=\"genTbl openTbl companyFinancialSummaryTbl\">\n",
      "<thead>\n",
      "<tr>\n",
      "<th class=\"arial_11 noBold title right period\">Period Ending:</th>\n",
      "<th>Dec 25, 2021</th>\n",
      "<th>Sep 25, 2021</th>\n",
      "<th>Jun 26, 2021</th>\n",
      "<th>Mar 27, 2021</th>\n",
      "</tr>\n",
      "</thead>\n",
      "<tbody>\n",
      "<tr>\n",
      "<td class=\"bold left\">Total Revenue</td>\n",
      "<td>123945</td>\n",
      "<td>83360</td>\n",
      "<td>81434</td>\n",
      "<td>89584</td>\n",
      "</tr>\n",
      "<tr>\n",
      "<td class=\"bold left\">Gross Profit</td>\n",
      "<td>54243</td>\n",
      "<td>35174</td>\n",
      "<td>35255</td>\n",
      "<td>38079</td>\n",
      "</tr>\n",
      "<tr>\n",
      "<td class=\"bold left\">Operating Income</td>\n",
      "<td>41488</td>\n",
      "<td>23786</td>\n",
      "<td>24126</td>\n",
      "<td>27503</td>\n",
      "</tr>\n",
      "<tr>\n",
      "<td class=\"bold left\">Net Income</td>\n",
      "<td>34630</td>\n",
      "<td>20551</td>\n",
      "<td>21744</td>\n",
      "<td>23630</td>\n",
      "</tr>\n",
      "</tbody>\n",
      "</table>\n",
      "</div>\n"
     ]
    }
   ],
   "source": [
    "if response.status_code == 200:\n",
    "    html = response.text\n",
    "    soup = BeautifulSoup(html, 'html.parser')\n",
    "    title = soup.select_one('#rsdiv > div:nth-child(1)')\n",
    "    print(title)\n",
    "else:\n",
    "    print(response.status_code)"
   ]
  },
  {
   "cell_type": "code",
   "execution_count": null,
   "metadata": {},
   "outputs": [],
   "source": []
  }
 ],
 "metadata": {
  "interpreter": {
   "hash": "b3ba2566441a7c06988d0923437866b63cedc61552a5af99d1f4fb67d367b25f"
  },
  "kernelspec": {
   "display_name": "Python 3.8.8 64-bit ('base': conda)",
   "language": "python",
   "name": "python3"
  },
  "language_info": {
   "codemirror_mode": {
    "name": "ipython",
    "version": 3
   },
   "file_extension": ".py",
   "mimetype": "text/x-python",
   "name": "python",
   "nbconvert_exporter": "python",
   "pygments_lexer": "ipython3",
   "version": "3.8.8"
  },
  "orig_nbformat": 4
 },
 "nbformat": 4,
 "nbformat_minor": 2
}
