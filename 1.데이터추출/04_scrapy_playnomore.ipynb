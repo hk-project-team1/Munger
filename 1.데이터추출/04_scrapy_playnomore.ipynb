{
 "cells": [
  {
   "cell_type": "markdown",
   "metadata": {
    "id": "jy7US1am99rK"
   },
   "source": [
    "### playnomore\n",
    "- http://playnomore.co.kr/\n",
    "- scrapy에서 fake-useragent 사용\n",
    "- scrapy를 실행할때 아규먼트를 설정해서 실행\n",
    "- pipelines에서 데이터 베이스로 데이터를 저장"
   ]
  },
  {
   "cell_type": "code",
   "execution_count": null,
   "metadata": {
    "id": "ShzDboaD99rO"
   },
   "outputs": [],
   "source": [
    "import scrapy\n",
    "import requests\n",
    "from scrapy.http import TextResponse"
   ]
  },
  {
   "cell_type": "markdown",
   "metadata": {
    "id": "s-gl8LUx99rP"
   },
   "source": [
    "#### 1. 프로젝트 생성"
   ]
  },
  {
   "cell_type": "code",
   "execution_count": null,
   "metadata": {
    "id": "c14-fOE499rP",
    "outputId": "68fd9e54-a356-4612-90cb-b3d7ba57c08f"
   },
   "outputs": [
    {
     "name": "stdout",
     "output_type": "stream",
     "text": [
      "New Scrapy project 'playnomore', using template directory '/home/ubuntu/.pyenv/versions/3.6.9/envs/python3/lib/python3.6/site-packages/scrapy/templates/project', created in:\r\n",
      "    /home/ubuntu/python3/notebook/scrapy/playnomore\r\n",
      "\r\n",
      "You can start your first spider with:\r\n",
      "    cd playnomore\r\n",
      "    scrapy genspider example example.com\r\n"
     ]
    }
   ],
   "source": [
    "!rm -rf playnomore\n",
    "!scrapy startproject playnomore"
   ]
  },
  {
   "cell_type": "markdown",
   "metadata": {
    "id": "AfLmk_hd99rQ"
   },
   "source": [
    "#### 2. items.py\n",
    "- title, price, img, link"
   ]
  },
  {
   "cell_type": "code",
   "execution_count": null,
   "metadata": {
    "id": "aBo4MAlS99rQ",
    "outputId": "0ac728e1-ae27-4e3c-f93e-d2195cd92546"
   },
   "outputs": [
    {
     "name": "stdout",
     "output_type": "stream",
     "text": [
      "Overwriting playnomore/playnomore/items.py\n"
     ]
    }
   ],
   "source": [
    "%%writefile playnomore/playnomore/items.py\n",
    "import scrapy\n",
    "\n",
    "class PlaynomoreItem(scrapy.Item):\n",
    "    title = scrapy.Field()\n",
    "    price = scrapy.Field()\n",
    "    img = scrapy.Field()\n",
    "    link = scrapy.Field()"
   ]
  },
  {
   "cell_type": "markdown",
   "metadata": {
    "id": "6pj7L9-z99rR"
   },
   "source": [
    "#### 3. xpath 확인\n",
    "- 링크\n",
    "- 링크 -> 상세페이지(제목, 이미지URL, 가격)\n",
    "- fake_useragent 설치\n",
    "    - pip install fake_useragent"
   ]
  },
  {
   "cell_type": "code",
   "execution_count": null,
   "metadata": {
    "id": "Rn3qLRan99rR",
    "outputId": "0d034391-cc14-4240-d8e9-2dae750c48a4"
   },
   "outputs": [
    {
     "data": {
      "text/plain": [
       "<200 http://playnomore.co.kr/category/bag/24/>"
      ]
     },
     "execution_count": 11,
     "metadata": {},
     "output_type": "execute_result"
    }
   ],
   "source": [
    "from fake_useragent import UserAgent\n",
    "url = \"http://playnomore.co.kr/category/bag/24/\"\n",
    "# headers = { \"User-Agent\": UserAgent().chrome }\n",
    "headers = { \"User-Agent\": \"Mozilla/5.0 (Macintosh; Intel Mac OS X 10_15_1) AppleWebKit/537.36 (KHTML, like Gecko) Chrome/78.0.3904.108 Safari/537.36\" }\n",
    "req = requests.get(url, headers=headers)\n",
    "response = TextResponse(req.url, body=req.text, encoding=\"utf-8\") \n",
    "response"
   ]
  },
  {
   "cell_type": "code",
   "execution_count": null,
   "metadata": {
    "id": "mhzq_4Hf99rS"
   },
   "outputs": [],
   "source": [
    "# 링크\n",
    "links = response.xpath(\n",
    "    '//*[@id=\"contents\"]/div[2]/div/ul/li/div/a/@href'\n",
    ").extract()\n",
    "links = list(map(response.urljoin, links))"
   ]
  },
  {
   "cell_type": "code",
   "execution_count": null,
   "metadata": {
    "id": "OncSb1Yf99rS",
    "outputId": "a9cbf6b5-357b-44b0-8679-022b54a87139"
   },
   "outputs": [
    {
     "data": {
      "text/plain": [
       "<200 http://playnomore.co.kr/product/black-play-day-10-micro-baguette-grey-python-180/547/?cate_no=24&display_group=1>"
      ]
     },
     "execution_count": 19,
     "metadata": {},
     "output_type": "execute_result"
    }
   ],
   "source": [
    "# 상세페이지 : 제목, 가격, 이미지URL\n",
    "url = links[0]\n",
    "headers = { \"User-Agent\": \"Mozilla/5.0 (Macintosh; Intel Mac OS X 10_15_1) AppleWebKit/537.36 (KHTML, like Gecko) Chrome/78.0.3904.108 Safari/537.36\" }\n",
    "req = requests.get(url, headers=headers)\n",
    "response = TextResponse(req.url, body=req.text, encoding=\"utf-8\") \n",
    "response"
   ]
  },
  {
   "cell_type": "code",
   "execution_count": null,
   "metadata": {
    "id": "2WNJI-tS99rT",
    "outputId": "9ba291f6-d18b-45c4-a8c8-7b382b5ad1b8"
   },
   "outputs": [
    {
     "data": {
      "text/plain": [
       "('[Black Play-Day 10%] MICRO BAGUETTE grey python ',\n",
       " '$ 162',\n",
       " 'http://playnomore.co.kr/web/product/big/201910/596078374708bbb81ffd629a8cf88950.jpg')"
      ]
     },
     "execution_count": 27,
     "metadata": {},
     "output_type": "execute_result"
    }
   ],
   "source": [
    "title1 = response.xpath(\n",
    "        '//*[@id=\"contents\"]/div[1]/div[1]/div[2]/div[1]/font/text()'\n",
    "    ).extract()\n",
    "title2 = response.xpath(\n",
    "        '//*[@id=\"contents\"]/div[1]/div[1]/div[2]/div[1]/text()'\n",
    "    ).extract()\n",
    "title = \"\".join(title1) + \"\".join(title2)\n",
    "price = response.xpath(\n",
    "        '//*[@id=\"contents\"]/div[1]/div[1]/div[2]/div[2]/text()'\n",
    "    ).extract()[0]\n",
    "img = \"http:\" + response.xpath(\n",
    "        '//*[@id=\"contents\"]/div[1]/div[1]/div[1]/div[1]/img/@src'\n",
    "    ).extract()[0]\n",
    "title, price, img"
   ]
  },
  {
   "cell_type": "markdown",
   "metadata": {
    "id": "yyhAUiqF99rT"
   },
   "source": [
    "#### 4. spider.py\n",
    "- scrapy-fake-useragent 설치\n",
    "    - pip install scrapy-fake-useragent"
   ]
  },
  {
   "cell_type": "code",
   "execution_count": null,
   "metadata": {
    "id": "EH4m4kyg99rT",
    "outputId": "3fd972c3-2930-4814-aeeb-bc4d5c9a66c2"
   },
   "outputs": [
    {
     "name": "stdout",
     "output_type": "stream",
     "text": [
      "fake-useragent        0.1.11   \r\n",
      "scrapy-fake-useragent 1.1.0    \r\n"
     ]
    }
   ],
   "source": [
    "!pip list | grep fake"
   ]
  },
  {
   "cell_type": "code",
   "execution_count": null,
   "metadata": {
    "id": "E98Vk3ZR99rU",
    "outputId": "b171ab84-de05-40ba-d9e1-5bb5416e4e54"
   },
   "outputs": [
    {
     "name": "stdout",
     "output_type": "stream",
     "text": [
      "Overwriting playnomore/playnomore/spiders/spider.py\n"
     ]
    }
   ],
   "source": [
    "%%writefile playnomore/playnomore/spiders/spider.py\n",
    "import scrapy\n",
    "from Munger.Munger.items import PlaynomoreItem\n",
    "\n",
    "class PlaynomoreSpider(scrapy.Spider):\n",
    "    name = \"Playnomore\"\n",
    "    custom_settings = {\n",
    "        'DOWNLOADER_MIDDLEWARES': {\n",
    "            'scrapy.downloadermiddlewares.useragent.UserAgentMiddleware': None,\n",
    "            'scrapy_fake_useragent.middleware.RandomUserAgentMiddleware': 400,\n",
    "        }\n",
    "    }\n",
    "    \n",
    "    def start_requests(self):\n",
    "        url = \"http://playnomore.co.kr/category/bag/24/\"\n",
    "        yield scrapy.Request(url, callback=self.parse)\n",
    "        \n",
    "    def parse(self, response):\n",
    "        links = response.xpath('//*[@id=\"contents\"]/div[2]/div/ul/li/div/a/@href').extract()\n",
    "        links = list(map(response.urljoin, links))\n",
    "        for link in links:\n",
    "            yield scrapy.Request(link, callback=self.page_parse)\n",
    "    \n",
    "    def page_parse(self, response):\n",
    "        item = PlaynomoreItem()\n",
    "        title1 = response.xpath('//*[@id=\"contents\"]/div[1]/div[1]/div[2]/div[1]/font/text()').extract()\n",
    "        title2 = response.xpath('//*[@id=\"contents\"]/div[1]/div[1]/div[2]/div[1]/text()').extract()\n",
    "        item[\"title\"] = \"\".join(title1) + \"\".join(title2)\n",
    "        item[\"price\"] = response.xpath('//*[@id=\"contents\"]/div[1]/div[1]/div[2]/div[2]/text()').extract()[0]\n",
    "        item[\"img\"] = \"http:\" + response.xpath('//*[@id=\"contents\"]/div[1]/div[1]/div[1]/div[1]/img/@src').extract()[0]\n",
    "        item[\"link\"] = response.url\n",
    "        yield item"
   ]
  },
  {
   "cell_type": "code",
   "execution_count": null,
   "metadata": {
    "id": "Exa5k11j-CL8"
   },
   "outputs": [],
   "source": []
  },
  {
   "cell_type": "code",
   "execution_count": null,
   "metadata": {
    "id": "j2Y37np199rU",
    "outputId": "ac9f6a72-df08-4dde-e18e-a12cb6a4580a"
   },
   "outputs": [
    {
     "name": "stdout",
     "output_type": "stream",
     "text": [
      "Overwriting run.sh\n"
     ]
    }
   ],
   "source": [
    "%%writefile run.sh\n",
    "cd playnomore\n",
    "scrapy crawl Playnomore -o playnomore.csv"
   ]
  },
  {
   "cell_type": "code",
   "execution_count": null,
   "metadata": {
    "id": "7brKZb2w99rU"
   },
   "outputs": [],
   "source": [
    "!chmod +x run.sh"
   ]
  },
  {
   "cell_type": "code",
   "execution_count": null,
   "metadata": {
    "collapsed": true,
    "id": "QbKPtNrk99rV",
    "outputId": "8f6c9d5a-7d29-40d9-bf0e-327083a2d39e"
   },
   "outputs": [
    {
     "name": "stdout",
     "output_type": "stream",
     "text": [
      "2019-11-28 05:22:59 [scrapy.utils.log] INFO: Scrapy 1.8.0 started (bot: playnomore)\n",
      "2019-11-28 05:22:59 [scrapy.utils.log] INFO: Versions: lxml 4.4.1.0, libxml2 2.9.9, cssselect 1.1.0, parsel 1.5.2, w3lib 1.21.0, Twisted 19.10.0, Python 3.6.9 (default, Oct 24 2019, 05:23:48) - [GCC 7.4.0], pyOpenSSL 19.1.0 (OpenSSL 1.1.1d  10 Sep 2019), cryptography 2.8, Platform Linux-4.15.0-1054-aws-x86_64-with-debian-buster-sid\n",
      "2019-11-28 05:22:59 [scrapy.crawler] INFO: Overridden settings: {'BOT_NAME': 'playnomore', 'FEED_FORMAT': 'csv', 'FEED_URI': 'playnomore.csv', 'NEWSPIDER_MODULE': 'playnomore.spiders', 'ROBOTSTXT_OBEY': True, 'SPIDER_MODULES': ['playnomore.spiders']}\n",
      "2019-11-28 05:22:59 [scrapy.extensions.telnet] INFO: Telnet Password: 8b7b67df4e8b4ec0\n",
      "2019-11-28 05:22:59 [scrapy.middleware] INFO: Enabled extensions:\n",
      "['scrapy.extensions.corestats.CoreStats',\n",
      " 'scrapy.extensions.telnet.TelnetConsole',\n",
      " 'scrapy.extensions.memusage.MemoryUsage',\n",
      " 'scrapy.extensions.feedexport.FeedExporter',\n",
      " 'scrapy.extensions.logstats.LogStats']\n",
      "2019-11-28 05:22:59 [scrapy.middleware] INFO: Enabled downloader middlewares:\n",
      "['scrapy.downloadermiddlewares.robotstxt.RobotsTxtMiddleware',\n",
      " 'scrapy.downloadermiddlewares.httpauth.HttpAuthMiddleware',\n",
      " 'scrapy.downloadermiddlewares.downloadtimeout.DownloadTimeoutMiddleware',\n",
      " 'scrapy.downloadermiddlewares.defaultheaders.DefaultHeadersMiddleware',\n",
      " 'scrapy_fake_useragent.middleware.RandomUserAgentMiddleware',\n",
      " 'scrapy.downloadermiddlewares.retry.RetryMiddleware',\n",
      " 'scrapy.downloadermiddlewares.redirect.MetaRefreshMiddleware',\n",
      " 'scrapy.downloadermiddlewares.httpcompression.HttpCompressionMiddleware',\n",
      " 'scrapy.downloadermiddlewares.redirect.RedirectMiddleware',\n",
      " 'scrapy.downloadermiddlewares.cookies.CookiesMiddleware',\n",
      " 'scrapy.downloadermiddlewares.httpproxy.HttpProxyMiddleware',\n",
      " 'scrapy.downloadermiddlewares.stats.DownloaderStats']\n",
      "2019-11-28 05:22:59 [scrapy.middleware] INFO: Enabled spider middlewares:\n",
      "['scrapy.spidermiddlewares.httperror.HttpErrorMiddleware',\n",
      " 'scrapy.spidermiddlewares.offsite.OffsiteMiddleware',\n",
      " 'scrapy.spidermiddlewares.referer.RefererMiddleware',\n",
      " 'scrapy.spidermiddlewares.urllength.UrlLengthMiddleware',\n",
      " 'scrapy.spidermiddlewares.depth.DepthMiddleware']\n",
      "2019-11-28 05:22:59 [scrapy.middleware] INFO: Enabled item pipelines:\n",
      "[]\n",
      "2019-11-28 05:22:59 [scrapy.core.engine] INFO: Spider opened\n",
      "2019-11-28 05:22:59 [scrapy.extensions.logstats] INFO: Crawled 0 pages (at 0 pages/min), scraped 0 items (at 0 items/min)\n",
      "2019-11-28 05:22:59 [scrapy.extensions.telnet] INFO: Telnet console listening on 127.0.0.1:6023\n",
      "2019-11-28 05:22:59 [scrapy.core.engine] DEBUG: Crawled (200) <GET http://playnomore.co.kr/robots.txt> (referer: None)\n",
      "2019-11-28 05:22:59 [scrapy.core.engine] DEBUG: Crawled (200) <GET http://playnomore.co.kr/category/bag/24/> (referer: None)\n",
      "2019-11-28 05:22:59 [scrapy.downloadermiddlewares.redirect] DEBUG: Redirecting (301) to <GET http://playnomore.co.kr/product/black-play-day-20-pre-order-micro-candy-white-170/507/?cate_no=24&display_group=1> from <GET http://playnomore.co.kr/product/detail.html?product_no=507&cate_no=24&display_group=1>\n",
      "2019-11-28 05:22:59 [scrapy.downloadermiddlewares.redirect] DEBUG: Redirecting (301) to <GET http://playnomore.co.kr/product/black-play-day-20-micro-candy-tweed-black-170/534/?cate_no=24&display_group=1> from <GET http://playnomore.co.kr/product/detail.html?product_no=534&cate_no=24&display_group=1>\n",
      "2019-11-28 05:22:59 [scrapy.downloadermiddlewares.redirect] DEBUG: Redirecting (301) to <GET http://playnomore.co.kr/product/black-play-day-10-micro-moon-chocolate-180/540/?cate_no=24&display_group=1> from <GET http://playnomore.co.kr/product/detail.html?product_no=540&cate_no=24&display_group=1>\n",
      "2019-11-28 05:22:59 [scrapy.downloadermiddlewares.redirect] DEBUG: Redirecting (301) to <GET http://playnomore.co.kr/product/black-play-day-20-micro-candy-black-170/506/?cate_no=24&display_group=1> from <GET http://playnomore.co.kr/product/detail.html?product_no=506&cate_no=24&display_group=1>\n",
      "2019-11-28 05:22:59 [scrapy.downloadermiddlewares.redirect] DEBUG: Redirecting (301) to <GET http://playnomore.co.kr/product/black-play-day-20-micro-candy-midnight-170/536/?cate_no=24&display_group=1> from <GET http://playnomore.co.kr/product/detail.html?product_no=536&cate_no=24&display_group=1>\n",
      "2019-11-28 05:22:59 [scrapy.downloadermiddlewares.redirect] DEBUG: Redirecting (301) to <GET http://playnomore.co.kr/product/black-play-day-10-micro-moon-olive-180/542/?cate_no=24&display_group=1> from <GET http://playnomore.co.kr/product/detail.html?product_no=542&cate_no=24&display_group=1>\n",
      "2019-11-28 05:22:59 [scrapy.downloadermiddlewares.redirect] DEBUG: Redirecting (301) to <GET http://playnomore.co.kr/product/black-play-day-10-micro-moon-indi-pink-180/541/?cate_no=24&display_group=1> from <GET http://playnomore.co.kr/product/detail.html?product_no=541&cate_no=24&display_group=1>\n",
      "2019-11-28 05:22:59 [scrapy.downloadermiddlewares.redirect] DEBUG: Redirecting (301) to <GET http://playnomore.co.kr/product/black-play-day-20-micro-candy-almond-170/535/?cate_no=24&display_group=1> from <GET http://playnomore.co.kr/product/detail.html?product_no=535&cate_no=24&display_group=1>\n",
      "2019-11-28 05:22:59 [scrapy.downloadermiddlewares.redirect] DEBUG: Redirecting (301) to <GET http://playnomore.co.kr/product/black-play-day-10-micro-moon-black-180/538/?cate_no=24&display_group=1> from <GET http://playnomore.co.kr/product/detail.html?product_no=538&cate_no=24&display_group=1>\n",
      "2019-11-28 05:22:59 [scrapy.downloadermiddlewares.redirect] DEBUG: Redirecting (301) to <GET http://playnomore.co.kr/product/black-play-day-10-micro-moon-ivory-180/539/?cate_no=24&display_group=1> from <GET http://playnomore.co.kr/product/detail.html?product_no=539&cate_no=24&display_group=1>\n",
      "2019-11-28 05:22:59 [scrapy.downloadermiddlewares.redirect] DEBUG: Redirecting (302) to <GET http://m.playnomore.co.kr/product/detail.html?product_no=547&cate_no=24&display_group=1> from <GET http://playnomore.co.kr/product/detail.html?product_no=547&cate_no=24&display_group=1>\n",
      "2019-11-28 05:22:59 [scrapy.downloadermiddlewares.redirect] DEBUG: Redirecting (301) to <GET http://playnomore.co.kr/product/black-play-day-10-micro-baguette-cocoa-box-180/544/?cate_no=24&display_group=1> from <GET http://playnomore.co.kr/product/detail.html?product_no=544&cate_no=24&display_group=1>\n",
      "2019-11-28 05:22:59 [scrapy.downloadermiddlewares.redirect] DEBUG: Redirecting (301) to <GET http://playnomore.co.kr/product/black-play-day-10-micro-baguette-pink-python-180/545/?cate_no=24&display_group=1> from <GET http://playnomore.co.kr/product/detail.html?product_no=545&cate_no=24&display_group=1>\n",
      "2019-11-28 05:22:59 [scrapy.downloadermiddlewares.redirect] DEBUG: Redirecting (301) to <GET http://playnomore.co.kr/product/black-play-day-10-micro-baguette-green-python-180/546/?cate_no=24&display_group=1> from <GET http://playnomore.co.kr/product/detail.html?product_no=546&cate_no=24&display_group=1>\n",
      "2019-11-28 05:22:59 [scrapy.downloadermiddlewares.redirect] DEBUG: Redirecting (301) to <GET http://playnomore.co.kr/product/black-play-day-10-micro-baguette-black-box-180/543/?cate_no=24&display_group=1> from <GET http://playnomore.co.kr/product/detail.html?product_no=543&cate_no=24&display_group=1>\n",
      "2019-11-28 05:22:59 [scrapy.core.engine] DEBUG: Crawled (200) <GET http://m.playnomore.co.kr/robots.txt> (referer: None)\n",
      "2019-11-28 05:23:00 [scrapy.core.engine] DEBUG: Crawled (200) <GET http://playnomore.co.kr/product/black-play-day-20-micro-candy-tweed-black-170/534/?cate_no=24&display_group=1> (referer: http://playnomore.co.kr/category/bag/24/)\n",
      "2019-11-28 05:23:00 [scrapy.core.engine] DEBUG: Crawled (200) <GET http://playnomore.co.kr/product/black-play-day-20-pre-order-micro-candy-white-170/507/?cate_no=24&display_group=1> (referer: http://playnomore.co.kr/category/bag/24/)\n",
      "2019-11-28 05:23:00 [scrapy.core.engine] DEBUG: Crawled (200) <GET http://playnomore.co.kr/product/black-play-day-10-micro-moon-olive-180/542/?cate_no=24&display_group=1> (referer: http://playnomore.co.kr/category/bag/24/)\n",
      "2019-11-28 05:23:00 [scrapy.core.engine] DEBUG: Crawled (200) <GET http://playnomore.co.kr/product/black-play-day-10-micro-moon-indi-pink-180/541/?cate_no=24&display_group=1> (referer: http://playnomore.co.kr/category/bag/24/)\n",
      "2019-11-28 05:23:00 [scrapy.core.engine] DEBUG: Crawled (200) <GET http://playnomore.co.kr/product/black-play-day-20-micro-candy-almond-170/535/?cate_no=24&display_group=1> (referer: http://playnomore.co.kr/category/bag/24/)\n"
     ]
    },
    {
     "name": "stdout",
     "output_type": "stream",
     "text": [
      "2019-11-28 05:23:00 [scrapy.core.engine] DEBUG: Crawled (200) <GET http://playnomore.co.kr/product/black-play-day-20-micro-candy-midnight-170/536/?cate_no=24&display_group=1> (referer: http://playnomore.co.kr/category/bag/24/)\n",
      "2019-11-28 05:23:00 [scrapy.core.engine] DEBUG: Crawled (200) <GET http://playnomore.co.kr/product/black-play-day-10-micro-moon-chocolate-180/540/?cate_no=24&display_group=1> (referer: http://playnomore.co.kr/category/bag/24/)\n",
      "2019-11-28 05:23:00 [scrapy.core.engine] DEBUG: Crawled (200) <GET http://playnomore.co.kr/product/black-play-day-20-micro-candy-black-170/506/?cate_no=24&display_group=1> (referer: http://playnomore.co.kr/category/bag/24/)\n",
      "2019-11-28 05:23:00 [scrapy.downloadermiddlewares.redirect] DEBUG: Redirecting (301) to <GET http://m.playnomore.co.kr/product/black-play-day-10-micro-baguette-grey-python-180/547/?cate_no=24&display_group=1> from <GET http://m.playnomore.co.kr/product/detail.html?product_no=547&cate_no=24&display_group=1>\n",
      "2019-11-28 05:23:00 [scrapy.core.scraper] DEBUG: Scraped from <200 http://playnomore.co.kr/product/black-play-day-20-micro-candy-tweed-black-170/534/?cate_no=24&display_group=1>\n",
      "{'img': 'http://playnomore.co.kr/web/product/big/201909/26416e10a6c1141c9267554d5054c93c.jpg',\n",
      " 'link': 'http://playnomore.co.kr/product/black-play-day-20-micro-candy-tweed-black-170/534/?cate_no=24&display_group=1',\n",
      " 'price': '$ 136',\n",
      " 'title': '[Black Play-Day 20%] MICRO CANDY tweed black '}\n",
      "2019-11-28 05:23:00 [scrapy.core.scraper] DEBUG: Scraped from <200 http://playnomore.co.kr/product/black-play-day-20-pre-order-micro-candy-white-170/507/?cate_no=24&display_group=1>\n",
      "{'img': 'http://playnomore.co.kr/web/product/big/201905/f3b7377fccdb62d9657441b1eda6d19d.jpg',\n",
      " 'link': 'http://playnomore.co.kr/product/black-play-day-20-pre-order-micro-candy-white-170/507/?cate_no=24&display_group=1',\n",
      " 'price': '$ 136',\n",
      " 'title': '[Black Play-Day 20%] [PRE-ORDER] MICRO CANDY white '}\n",
      "2019-11-28 05:23:00 [scrapy.core.scraper] DEBUG: Scraped from <200 http://playnomore.co.kr/product/black-play-day-10-micro-moon-olive-180/542/?cate_no=24&display_group=1>\n",
      "{'img': 'http://playnomore.co.kr/web/product/big/201909/009a912866af7785c74acb8fd657fa5d.jpg',\n",
      " 'link': 'http://playnomore.co.kr/product/black-play-day-10-micro-moon-olive-180/542/?cate_no=24&display_group=1',\n",
      " 'price': '$ 162',\n",
      " 'title': '[Black Play-Day 10%] MICRO MOON olive '}\n",
      "2019-11-28 05:23:00 [scrapy.core.scraper] DEBUG: Scraped from <200 http://playnomore.co.kr/product/black-play-day-10-micro-moon-indi-pink-180/541/?cate_no=24&display_group=1>\n",
      "{'img': 'http://playnomore.co.kr/web/product/big/201909/27f0c6559910472640d25c2731d4bc7a.jpg',\n",
      " 'link': 'http://playnomore.co.kr/product/black-play-day-10-micro-moon-indi-pink-180/541/?cate_no=24&display_group=1',\n",
      " 'price': '$ 162',\n",
      " 'title': '[Black Play-Day 10%] MICRO MOON indi pink '}\n",
      "2019-11-28 05:23:00 [scrapy.core.scraper] DEBUG: Scraped from <200 http://playnomore.co.kr/product/black-play-day-20-micro-candy-almond-170/535/?cate_no=24&display_group=1>\n",
      "{'img': 'http://playnomore.co.kr/web/product/big/201909/4a34e4457b5ba7fabc316e0faea413ad.jpg',\n",
      " 'link': 'http://playnomore.co.kr/product/black-play-day-20-micro-candy-almond-170/535/?cate_no=24&display_group=1',\n",
      " 'price': '$ 136',\n",
      " 'title': '[Black Play-Day 20%] MICRO CANDY almond '}\n",
      "2019-11-28 05:23:00 [scrapy.core.scraper] DEBUG: Scraped from <200 http://playnomore.co.kr/product/black-play-day-20-micro-candy-midnight-170/536/?cate_no=24&display_group=1>\n",
      "{'img': 'http://playnomore.co.kr/web/product/big/201909/634e167680e1314de54b1069c72ed16a.jpg',\n",
      " 'link': 'http://playnomore.co.kr/product/black-play-day-20-micro-candy-midnight-170/536/?cate_no=24&display_group=1',\n",
      " 'price': '$ 136',\n",
      " 'title': '[Black Play-Day 20%] MICRO CANDY midnight '}\n",
      "2019-11-28 05:23:00 [scrapy.core.scraper] DEBUG: Scraped from <200 http://playnomore.co.kr/product/black-play-day-10-micro-moon-chocolate-180/540/?cate_no=24&display_group=1>\n",
      "{'img': 'http://playnomore.co.kr/web/product/big/201909/f8981ada9b99c416229cb597ed13e777.jpg',\n",
      " 'link': 'http://playnomore.co.kr/product/black-play-day-10-micro-moon-chocolate-180/540/?cate_no=24&display_group=1',\n",
      " 'price': '$ 162',\n",
      " 'title': '[Black Play-Day 10%] MICRO MOON chocolate '}\n",
      "2019-11-28 05:23:00 [scrapy.core.scraper] DEBUG: Scraped from <200 http://playnomore.co.kr/product/black-play-day-20-micro-candy-black-170/506/?cate_no=24&display_group=1>\n",
      "{'img': 'http://playnomore.co.kr/web/product/big/201905/87ef31c172cfadd128fcddd8712f8f3b.jpg',\n",
      " 'link': 'http://playnomore.co.kr/product/black-play-day-20-micro-candy-black-170/506/?cate_no=24&display_group=1',\n",
      " 'price': '$ 136',\n",
      " 'title': '[Black Play-Day 20%] MICRO CANDY black '}\n",
      "2019-11-28 05:23:00 [scrapy.core.engine] DEBUG: Crawled (200) <GET http://playnomore.co.kr/product/black-play-day-10-micro-moon-ivory-180/539/?cate_no=24&display_group=1> (referer: http://playnomore.co.kr/category/bag/24/)\n",
      "2019-11-28 05:23:00 [scrapy.core.engine] DEBUG: Crawled (200) <GET http://playnomore.co.kr/product/black-play-day-10-micro-moon-black-180/538/?cate_no=24&display_group=1> (referer: http://playnomore.co.kr/category/bag/24/)\n",
      "2019-11-28 05:23:00 [scrapy.core.engine] DEBUG: Crawled (200) <GET http://playnomore.co.kr/product/black-play-day-10-micro-baguette-pink-python-180/545/?cate_no=24&display_group=1> (referer: http://playnomore.co.kr/category/bag/24/)\n",
      "2019-11-28 05:23:00 [scrapy.core.engine] DEBUG: Crawled (200) <GET http://playnomore.co.kr/product/black-play-day-10-micro-baguette-black-box-180/543/?cate_no=24&display_group=1> (referer: http://playnomore.co.kr/category/bag/24/)\n",
      "2019-11-28 05:23:00 [scrapy.core.engine] DEBUG: Crawled (200) <GET http://playnomore.co.kr/product/black-play-day-10-micro-baguette-cocoa-box-180/544/?cate_no=24&display_group=1> (referer: http://playnomore.co.kr/category/bag/24/)\n",
      "2019-11-28 05:23:00 [scrapy.core.engine] DEBUG: Crawled (200) <GET http://playnomore.co.kr/product/black-play-day-10-micro-baguette-green-python-180/546/?cate_no=24&display_group=1> (referer: http://playnomore.co.kr/category/bag/24/)\n",
      "2019-11-28 05:23:00 [scrapy.core.engine] DEBUG: Crawled (200) <GET http://m.playnomore.co.kr/product/black-play-day-10-micro-baguette-grey-python-180/547/?cate_no=24&display_group=1> (referer: http://playnomore.co.kr/category/bag/24/)\n",
      "2019-11-28 05:23:00 [scrapy.core.scraper] DEBUG: Scraped from <200 http://playnomore.co.kr/product/black-play-day-10-micro-moon-ivory-180/539/?cate_no=24&display_group=1>\n",
      "{'img': 'http://playnomore.co.kr/web/product/big/201909/184b38c352f5b2c79aef02fd6d407e12.jpg',\n",
      " 'link': 'http://playnomore.co.kr/product/black-play-day-10-micro-moon-ivory-180/539/?cate_no=24&display_group=1',\n",
      " 'price': '$ 162',\n",
      " 'title': '[Black Play-Day 10%] MICRO MOON ivory '}\n",
      "2019-11-28 05:23:00 [scrapy.core.scraper] DEBUG: Scraped from <200 http://playnomore.co.kr/product/black-play-day-10-micro-moon-black-180/538/?cate_no=24&display_group=1>\n",
      "{'img': 'http://playnomore.co.kr/web/product/big/201909/cc069c51075d5440b1e8ea235821abe4.jpg',\n",
      " 'link': 'http://playnomore.co.kr/product/black-play-day-10-micro-moon-black-180/538/?cate_no=24&display_group=1',\n",
      " 'price': '$ 162',\n",
      " 'title': '[Black Play-Day 10%] MICRO MOON black '}\n",
      "2019-11-28 05:23:00 [scrapy.core.scraper] DEBUG: Scraped from <200 http://playnomore.co.kr/product/black-play-day-10-micro-baguette-pink-python-180/545/?cate_no=24&display_group=1>\n",
      "{'img': 'http://playnomore.co.kr/web/product/big/201910/0af90d394789fffda249d8ba5f787a96.jpg',\n",
      " 'link': 'http://playnomore.co.kr/product/black-play-day-10-micro-baguette-pink-python-180/545/?cate_no=24&display_group=1',\n",
      " 'price': '$ 162',\n",
      " 'title': '[Black Play-Day 10%] MICRO BAGUETTE pink python '}\n",
      "2019-11-28 05:23:00 [scrapy.core.scraper] DEBUG: Scraped from <200 http://playnomore.co.kr/product/black-play-day-10-micro-baguette-black-box-180/543/?cate_no=24&display_group=1>\n",
      "{'img': 'http://playnomore.co.kr/web/product/big/201910/de197b5f5a5bff1a3004f29a07a6bdd2.jpg',\n",
      " 'link': 'http://playnomore.co.kr/product/black-play-day-10-micro-baguette-black-box-180/543/?cate_no=24&display_group=1',\n",
      " 'price': '$ 162',\n",
      " 'title': '[Black Play-Day 10%] MICRO BAGUETTE black box '}\n",
      "2019-11-28 05:23:00 [scrapy.core.scraper] DEBUG: Scraped from <200 http://playnomore.co.kr/product/black-play-day-10-micro-baguette-cocoa-box-180/544/?cate_no=24&display_group=1>\n",
      "{'img': 'http://playnomore.co.kr/web/product/big/201910/ea1e590f00168a375c1bf10dcc501e3d.jpg',\n",
      " 'link': 'http://playnomore.co.kr/product/black-play-day-10-micro-baguette-cocoa-box-180/544/?cate_no=24&display_group=1',\n",
      " 'price': '$ 162',\n",
      " 'title': '[Black Play-Day 10%] MICRO BAGUETTE cocoa box '}\n"
     ]
    },
    {
     "name": "stdout",
     "output_type": "stream",
     "text": [
      "2019-11-28 05:23:00 [scrapy.core.scraper] DEBUG: Scraped from <200 http://playnomore.co.kr/product/black-play-day-10-micro-baguette-green-python-180/546/?cate_no=24&display_group=1>\n",
      "{'img': 'http://playnomore.co.kr/web/product/big/201910/751de37eead5e1a82a373b0738ed1059.jpg',\n",
      " 'link': 'http://playnomore.co.kr/product/black-play-day-10-micro-baguette-green-python-180/546/?cate_no=24&display_group=1',\n",
      " 'price': '$ 162',\n",
      " 'title': '[Black Play-Day 10%] MICRO BAGUETTE green python '}\n",
      "2019-11-28 05:23:00 [scrapy.core.scraper] ERROR: Spider error processing <GET http://m.playnomore.co.kr/product/black-play-day-10-micro-baguette-grey-python-180/547/?cate_no=24&display_group=1> (referer: http://playnomore.co.kr/category/bag/24/)\n",
      "Traceback (most recent call last):\n",
      "  File \"/home/ubuntu/.pyenv/versions/3.6.9/envs/python3/lib/python3.6/site-packages/scrapy/utils/defer.py\", line 102, in iter_errback\n",
      "    yield next(it)\n",
      "  File \"/home/ubuntu/.pyenv/versions/3.6.9/envs/python3/lib/python3.6/site-packages/scrapy/core/spidermw.py\", line 84, in evaluate_iterable\n",
      "    for r in iterable:\n",
      "  File \"/home/ubuntu/.pyenv/versions/3.6.9/envs/python3/lib/python3.6/site-packages/scrapy/spidermiddlewares/offsite.py\", line 29, in process_spider_output\n",
      "    for x in result:\n",
      "  File \"/home/ubuntu/.pyenv/versions/3.6.9/envs/python3/lib/python3.6/site-packages/scrapy/core/spidermw.py\", line 84, in evaluate_iterable\n",
      "    for r in iterable:\n",
      "  File \"/home/ubuntu/.pyenv/versions/3.6.9/envs/python3/lib/python3.6/site-packages/scrapy/spidermiddlewares/referer.py\", line 339, in <genexpr>\n",
      "    return (_set_referer(r) for r in result or ())\n",
      "  File \"/home/ubuntu/.pyenv/versions/3.6.9/envs/python3/lib/python3.6/site-packages/scrapy/core/spidermw.py\", line 84, in evaluate_iterable\n",
      "    for r in iterable:\n",
      "  File \"/home/ubuntu/.pyenv/versions/3.6.9/envs/python3/lib/python3.6/site-packages/scrapy/spidermiddlewares/urllength.py\", line 37, in <genexpr>\n",
      "    return (r for r in result or () if _filter(r))\n",
      "  File \"/home/ubuntu/.pyenv/versions/3.6.9/envs/python3/lib/python3.6/site-packages/scrapy/core/spidermw.py\", line 84, in evaluate_iterable\n",
      "    for r in iterable:\n",
      "  File \"/home/ubuntu/.pyenv/versions/3.6.9/envs/python3/lib/python3.6/site-packages/scrapy/spidermiddlewares/depth.py\", line 58, in <genexpr>\n",
      "    return (r for r in result or () if _filter(r))\n",
      "  File \"/home/ubuntu/python3/notebook/scrapy/playnomore/playnomore/spiders/spider.py\", line 28, in page_parse\n",
      "    item[\"price\"] = response.xpath('//*[@id=\"contents\"]/div[1]/div[1]/div[2]/div[2]/text()').extract()[0]\n",
      "IndexError: list index out of range\n",
      "2019-11-28 05:23:00 [scrapy.core.engine] INFO: Closing spider (finished)\n",
      "2019-11-28 05:23:00 [scrapy.extensions.feedexport] INFO: Stored csv feed (14 items) in: playnomore.csv\n",
      "2019-11-28 05:23:00 [scrapy.statscollectors] INFO: Dumping Scrapy stats:\n",
      "{'downloader/request_bytes': 17450,\n",
      " 'downloader/request_count': 34,\n",
      " 'downloader/request_method_count/GET': 34,\n",
      " 'downloader/response_bytes': 309084,\n",
      " 'downloader/response_count': 34,\n",
      " 'downloader/response_status_count/200': 18,\n",
      " 'downloader/response_status_count/301': 15,\n",
      " 'downloader/response_status_count/302': 1,\n",
      " 'elapsed_time_seconds': 1.297751,\n",
      " 'finish_reason': 'finished',\n",
      " 'finish_time': datetime.datetime(2019, 11, 28, 5, 23, 0, 837777),\n",
      " 'item_scraped_count': 14,\n",
      " 'log_count/DEBUG': 48,\n",
      " 'log_count/ERROR': 1,\n",
      " 'log_count/INFO': 11,\n",
      " 'memusage/max': 53514240,\n",
      " 'memusage/startup': 53514240,\n",
      " 'request_depth_max': 1,\n",
      " 'response_received_count': 18,\n",
      " 'robotstxt/request_count': 2,\n",
      " 'robotstxt/response_count': 2,\n",
      " 'robotstxt/response_status_count/200': 2,\n",
      " 'scheduler/dequeued': 32,\n",
      " 'scheduler/dequeued/memory': 32,\n",
      " 'scheduler/enqueued': 32,\n",
      " 'scheduler/enqueued/memory': 32,\n",
      " 'spider_exceptions/IndexError': 1,\n",
      " 'start_time': datetime.datetime(2019, 11, 28, 5, 22, 59, 540026)}\n",
      "2019-11-28 05:23:00 [scrapy.core.engine] INFO: Spider closed (finished)\n"
     ]
    }
   ],
   "source": [
    "!./run.sh"
   ]
  },
  {
   "cell_type": "code",
   "execution_count": null,
   "metadata": {
    "id": "WCzlTkB499rV",
    "outputId": "7cdb2c3a-75a9-4f93-ed3b-af8e7796ffd4"
   },
   "outputs": [
    {
     "data": {
      "text/html": [
       "<div>\n",
       "<style scoped>\n",
       "    .dataframe tbody tr th:only-of-type {\n",
       "        vertical-align: middle;\n",
       "    }\n",
       "\n",
       "    .dataframe tbody tr th {\n",
       "        vertical-align: top;\n",
       "    }\n",
       "\n",
       "    .dataframe thead th {\n",
       "        text-align: right;\n",
       "    }\n",
       "</style>\n",
       "<table border=\"1\" class=\"dataframe\">\n",
       "  <thead>\n",
       "    <tr style=\"text-align: right;\">\n",
       "      <th></th>\n",
       "      <th>img</th>\n",
       "      <th>link</th>\n",
       "      <th>price</th>\n",
       "      <th>title</th>\n",
       "    </tr>\n",
       "  </thead>\n",
       "  <tbody>\n",
       "    <tr>\n",
       "      <th>13</th>\n",
       "      <td>http://playnomore.co.kr/web/product/big/201910...</td>\n",
       "      <td>http://playnomore.co.kr/product/black-play-day...</td>\n",
       "      <td>$ 162</td>\n",
       "      <td>[Black Play-Day 10%] MICRO BAGUETTE green python</td>\n",
       "    </tr>\n",
       "  </tbody>\n",
       "</table>\n",
       "</div>"
      ],
      "text/plain": [
       "                                                  img  \\\n",
       "13  http://playnomore.co.kr/web/product/big/201910...   \n",
       "\n",
       "                                                 link  price  \\\n",
       "13  http://playnomore.co.kr/product/black-play-day...  $ 162   \n",
       "\n",
       "                                                title  \n",
       "13  [Black Play-Day 10%] MICRO BAGUETTE green python   "
      ]
     },
     "execution_count": 41,
     "metadata": {},
     "output_type": "execute_result"
    }
   ],
   "source": [
    "import pandas as pd\n",
    "df = pd.read_csv(\"playnomore/playnomore.csv\")\n",
    "df.tail(1)"
   ]
  },
  {
   "cell_type": "markdown",
   "metadata": {
    "id": "55OmuXie99rV"
   },
   "source": [
    "#### 5. argument 설정"
   ]
  },
  {
   "cell_type": "code",
   "execution_count": null,
   "metadata": {
    "id": "1SN5CgGD99rV",
    "outputId": "536c9bdc-bf93-4623-b16e-6055de41a547"
   },
   "outputs": [
    {
     "name": "stdout",
     "output_type": "stream",
     "text": [
      "Overwriting playnomore/playnomore/spiders/spider.py\n"
     ]
    }
   ],
   "source": [
    "%%writefile playnomore/playnomore/spiders/spider.py\n",
    "import scrapy\n",
    "from playnomore.items import PlaynomoreItem\n",
    "\n",
    "class PlaynomoreSpider(scrapy.Spider):\n",
    "    name = \"Playnomore\"\n",
    "    custom_settings = {\n",
    "        'DOWNLOADER_MIDDLEWARES': {\n",
    "            'scrapy.downloadermiddlewares.useragent.UserAgentMiddleware': None,\n",
    "            'scrapy_fake_useragent.middleware.RandomUserAgentMiddleware': 400,\n",
    "        }\n",
    "    }\n",
    "    \n",
    "    def __init__(self, category1=\"bag\", category2=24, **kwargs):\n",
    "        self.start_url = \"http://playnomore.co.kr/category/{}/{}/\".format(category1, category2)\n",
    "        super().__init__(**kwargs)\n",
    "        \n",
    "    def start_requests(self):\n",
    "        url = self.start_url\n",
    "        yield scrapy.Request(url, callback=self.parse)\n",
    "        \n",
    "    def parse(self, response):\n",
    "        links = response.xpath('//*[@id=\"contents\"]/div[2]/div/ul/li/div/a/@href').extract()\n",
    "        links = list(map(response.urljoin, links))\n",
    "        for link in links:\n",
    "            yield scrapy.Request(link, callback=self.page_parse)\n",
    "    \n",
    "    def page_parse(self, response):\n",
    "        item = PlaynomoreItem()\n",
    "        title1 = response.xpath('//*[@id=\"contents\"]/div[1]/div[1]/div[2]/div[1]/font/text()').extract()\n",
    "        title2 = response.xpath('//*[@id=\"contents\"]/div[1]/div[1]/div[2]/div[1]/text()').extract()\n",
    "        item[\"title\"] = \"\".join(title1) + \"\".join(title2)\n",
    "        item[\"price\"] = response.xpath('//*[@id=\"contents\"]/div[1]/div[1]/div[2]/div[2]/text()').extract()[0]\n",
    "        item[\"img\"] = \"http:\" + response.xpath('//*[@id=\"contents\"]/div[1]/div[1]/div[1]/div[1]/img/@src').extract()[0]\n",
    "        item[\"link\"] = response.url\n",
    "        yield item"
   ]
  },
  {
   "cell_type": "code",
   "execution_count": null,
   "metadata": {
    "id": "citX5OWx99rW",
    "outputId": "ee0fa543-2454-4b58-a4c6-0c92c31a9c59"
   },
   "outputs": [
    {
     "name": "stdout",
     "output_type": "stream",
     "text": [
      "Overwriting run.sh\n"
     ]
    }
   ],
   "source": [
    "%%writefile run.sh\n",
    "cd playnomore\n",
    "scrapy crawl Playnomore -o playnomore2.csv -a category1=shoes -a category2=25"
   ]
  },
  {
   "cell_type": "code",
   "execution_count": null,
   "metadata": {
    "collapsed": true,
    "id": "Er4c9iP199rW",
    "outputId": "ff7b14cd-34d2-4d87-844d-f5d8fd8c56b3"
   },
   "outputs": [
    {
     "name": "stdout",
     "output_type": "stream",
     "text": [
      "2019-11-28 05:32:14 [scrapy.utils.log] INFO: Scrapy 1.8.0 started (bot: playnomore)\n",
      "2019-11-28 05:32:14 [scrapy.utils.log] INFO: Versions: lxml 4.4.1.0, libxml2 2.9.9, cssselect 1.1.0, parsel 1.5.2, w3lib 1.21.0, Twisted 19.10.0, Python 3.6.9 (default, Oct 24 2019, 05:23:48) - [GCC 7.4.0], pyOpenSSL 19.1.0 (OpenSSL 1.1.1d  10 Sep 2019), cryptography 2.8, Platform Linux-4.15.0-1054-aws-x86_64-with-debian-buster-sid\n",
      "2019-11-28 05:32:14 [scrapy.crawler] INFO: Overridden settings: {'BOT_NAME': 'playnomore', 'FEED_FORMAT': 'csv', 'FEED_URI': 'playnomore2.csv', 'NEWSPIDER_MODULE': 'playnomore.spiders', 'ROBOTSTXT_OBEY': True, 'SPIDER_MODULES': ['playnomore.spiders']}\n",
      "2019-11-28 05:32:14 [scrapy.extensions.telnet] INFO: Telnet Password: cdd410e38b7f619d\n",
      "2019-11-28 05:32:14 [scrapy.middleware] INFO: Enabled extensions:\n",
      "['scrapy.extensions.corestats.CoreStats',\n",
      " 'scrapy.extensions.telnet.TelnetConsole',\n",
      " 'scrapy.extensions.memusage.MemoryUsage',\n",
      " 'scrapy.extensions.feedexport.FeedExporter',\n",
      " 'scrapy.extensions.logstats.LogStats']\n",
      "2019-11-28 05:32:14 [scrapy.middleware] INFO: Enabled downloader middlewares:\n",
      "['scrapy.downloadermiddlewares.robotstxt.RobotsTxtMiddleware',\n",
      " 'scrapy.downloadermiddlewares.httpauth.HttpAuthMiddleware',\n",
      " 'scrapy.downloadermiddlewares.downloadtimeout.DownloadTimeoutMiddleware',\n",
      " 'scrapy.downloadermiddlewares.defaultheaders.DefaultHeadersMiddleware',\n",
      " 'scrapy_fake_useragent.middleware.RandomUserAgentMiddleware',\n",
      " 'scrapy.downloadermiddlewares.retry.RetryMiddleware',\n",
      " 'scrapy.downloadermiddlewares.redirect.MetaRefreshMiddleware',\n",
      " 'scrapy.downloadermiddlewares.httpcompression.HttpCompressionMiddleware',\n",
      " 'scrapy.downloadermiddlewares.redirect.RedirectMiddleware',\n",
      " 'scrapy.downloadermiddlewares.cookies.CookiesMiddleware',\n",
      " 'scrapy.downloadermiddlewares.httpproxy.HttpProxyMiddleware',\n",
      " 'scrapy.downloadermiddlewares.stats.DownloaderStats']\n",
      "2019-11-28 05:32:14 [scrapy.middleware] INFO: Enabled spider middlewares:\n",
      "['scrapy.spidermiddlewares.httperror.HttpErrorMiddleware',\n",
      " 'scrapy.spidermiddlewares.offsite.OffsiteMiddleware',\n",
      " 'scrapy.spidermiddlewares.referer.RefererMiddleware',\n",
      " 'scrapy.spidermiddlewares.urllength.UrlLengthMiddleware',\n",
      " 'scrapy.spidermiddlewares.depth.DepthMiddleware']\n",
      "2019-11-28 05:32:14 [scrapy.middleware] INFO: Enabled item pipelines:\n",
      "[]\n",
      "2019-11-28 05:32:14 [scrapy.core.engine] INFO: Spider opened\n",
      "2019-11-28 05:32:14 [scrapy.extensions.logstats] INFO: Crawled 0 pages (at 0 pages/min), scraped 0 items (at 0 items/min)\n",
      "2019-11-28 05:32:14 [scrapy.extensions.telnet] INFO: Telnet console listening on 127.0.0.1:6023\n",
      "2019-11-28 05:32:14 [scrapy.core.engine] DEBUG: Crawled (200) <GET http://playnomore.co.kr/robots.txt> (referer: None)\n",
      "2019-11-28 05:32:14 [scrapy.core.engine] DEBUG: Crawled (200) <GET http://playnomore.co.kr/category/shoes/25/> (referer: None)\n",
      "2019-11-28 05:32:14 [scrapy.downloadermiddlewares.redirect] DEBUG: Redirecting (301) to <GET http://playnomore.co.kr/product/sold-out-winkygirl-color-blocks-5cm-metallic-pink/137/?cate_no=25&display_group=1> from <GET http://playnomore.co.kr/product/detail.html?product_no=137&cate_no=25&display_group=1>\n",
      "2019-11-28 05:32:14 [scrapy.downloadermiddlewares.redirect] DEBUG: Redirecting (301) to <GET http://playnomore.co.kr/product/sold-out-winkygirl-color-blocks-2cm-multi/140/?cate_no=25&display_group=1> from <GET http://playnomore.co.kr/product/detail.html?product_no=140&cate_no=25&display_group=1>\n",
      "2019-11-28 05:32:14 [scrapy.downloadermiddlewares.redirect] DEBUG: Redirecting (301) to <GET http://playnomore.co.kr/product/sold-out-kiss-me-deep-green/23/?cate_no=25&display_group=1> from <GET http://playnomore.co.kr/product/detail.html?product_no=23&cate_no=25&display_group=1>\n",
      "2019-11-28 05:32:14 [scrapy.downloadermiddlewares.redirect] DEBUG: Redirecting (301) to <GET http://playnomore.co.kr/product/sold-out-winkygirl-color-blocks-2cm-black/138/?cate_no=25&display_group=1> from <GET http://playnomore.co.kr/product/detail.html?product_no=138&cate_no=25&display_group=1>\n",
      "2019-11-28 05:32:14 [scrapy.downloadermiddlewares.redirect] DEBUG: Redirecting (301) to <GET http://playnomore.co.kr/product/sold-out-shy-lip-bloafer-champagne-gold/305/?cate_no=25&display_group=1> from <GET http://playnomore.co.kr/product/detail.html?product_no=305&cate_no=25&display_group=1>\n",
      "2019-11-28 05:32:14 [scrapy.downloadermiddlewares.redirect] DEBUG: Redirecting (301) to <GET http://playnomore.co.kr/product/sold-out-shy-friends-oxford-black/181/?cate_no=25&display_group=1> from <GET http://playnomore.co.kr/product/detail.html?product_no=181&cate_no=25&display_group=1>\n",
      "2019-11-28 05:32:14 [scrapy.downloadermiddlewares.redirect] DEBUG: Redirecting (301) to <GET http://playnomore.co.kr/product/sold-out-kiss-me-pink-beige/22/?cate_no=25&display_group=1> from <GET http://playnomore.co.kr/product/detail.html?product_no=22&cate_no=25&display_group=1>\n",
      "2019-11-28 05:32:14 [scrapy.downloadermiddlewares.redirect] DEBUG: Redirecting (301) to <GET http://playnomore.co.kr/product/sold-out-winkygirl-color-blocks-metallic-navy-5cm/20/?cate_no=25&display_group=1> from <GET http://playnomore.co.kr/product/detail.html?product_no=20&cate_no=25&display_group=1>\n",
      "2019-11-28 05:32:14 [scrapy.downloadermiddlewares.redirect] DEBUG: Redirecting (301) to <GET http://playnomore.co.kr/product/sold-out-shy-lip-bloafer-chrome/304/?cate_no=25&display_group=1> from <GET http://playnomore.co.kr/product/detail.html?product_no=304&cate_no=25&display_group=1>\n",
      "2019-11-28 05:32:14 [scrapy.downloadermiddlewares.redirect] DEBUG: Redirecting (301) to <GET http://playnomore.co.kr/product/sold-out-shygirl-oxford-gold/233/?cate_no=25&display_group=1> from <GET http://playnomore.co.kr/product/detail.html?product_no=233&cate_no=25&display_group=1>\n",
      "2019-11-28 05:32:14 [scrapy.downloadermiddlewares.redirect] DEBUG: Redirecting (301) to <GET http://playnomore.co.kr/product/sold-out-shygirl-oxford-chrome/207/?cate_no=25&display_group=1> from <GET http://playnomore.co.kr/product/detail.html?product_no=207&cate_no=25&display_group=1>\n",
      "2019-11-28 05:32:14 [scrapy.downloadermiddlewares.redirect] DEBUG: Redirecting (301) to <GET http://playnomore.co.kr/product/sold-out-shygirl-oxford-silver/232/?cate_no=25&display_group=1> from <GET http://playnomore.co.kr/product/detail.html?product_no=232&cate_no=25&display_group=1>\n",
      "2019-11-28 05:32:14 [scrapy.downloadermiddlewares.redirect] DEBUG: Redirecting (301) to <GET http://playnomore.co.kr/product/70-sale-finding-cinderella-winkygirl-color-blocks-5cm-silver-414/21/?cate_no=25&display_group=1> from <GET http://playnomore.co.kr/product/detail.html?product_no=21&cate_no=25&display_group=1>\n",
      "2019-11-28 05:32:14 [scrapy.downloadermiddlewares.redirect] DEBUG: Redirecting (301) to <GET http://playnomore.co.kr/product/sold-out-winkygirl-color-blocks-5cm-rose-gold/18/?cate_no=25&display_group=1> from <GET http://playnomore.co.kr/product/detail.html?product_no=18&cate_no=25&display_group=1>\n",
      "2019-11-28 05:32:14 [scrapy.downloadermiddlewares.redirect] DEBUG: Redirecting (301) to <GET http://playnomore.co.kr/product/sold-out-winkygirl-color-blocks-5cm-multi/19/?cate_no=25&display_group=1> from <GET http://playnomore.co.kr/product/detail.html?product_no=19&cate_no=25&display_group=1>\n",
      "2019-11-28 05:32:15 [scrapy.core.engine] DEBUG: Crawled (200) <GET http://playnomore.co.kr/product/sold-out-winkygirl-color-blocks-2cm-multi/140/?cate_no=25&display_group=1> (referer: http://playnomore.co.kr/category/shoes/25/)\n",
      "2019-11-28 05:32:15 [scrapy.core.engine] DEBUG: Crawled (200) <GET http://playnomore.co.kr/product/sold-out-shy-lip-bloafer-champagne-gold/305/?cate_no=25&display_group=1> (referer: http://playnomore.co.kr/category/shoes/25/)\n",
      "2019-11-28 05:32:15 [scrapy.core.engine] DEBUG: Crawled (200) <GET http://playnomore.co.kr/product/sold-out-kiss-me-pink-beige/22/?cate_no=25&display_group=1> (referer: http://playnomore.co.kr/category/shoes/25/)\n",
      "2019-11-28 05:32:15 [scrapy.core.engine] DEBUG: Crawled (200) <GET http://playnomore.co.kr/product/sold-out-winkygirl-color-blocks-2cm-black/138/?cate_no=25&display_group=1> (referer: http://playnomore.co.kr/category/shoes/25/)\n",
      "2019-11-28 05:32:15 [scrapy.core.engine] DEBUG: Crawled (200) <GET http://playnomore.co.kr/product/sold-out-shy-friends-oxford-black/181/?cate_no=25&display_group=1> (referer: http://playnomore.co.kr/category/shoes/25/)\n",
      "2019-11-28 05:32:15 [scrapy.core.engine] DEBUG: Crawled (200) <GET http://playnomore.co.kr/product/sold-out-kiss-me-deep-green/23/?cate_no=25&display_group=1> (referer: http://playnomore.co.kr/category/shoes/25/)\n"
     ]
    },
    {
     "name": "stdout",
     "output_type": "stream",
     "text": [
      "2019-11-28 05:32:15 [scrapy.core.scraper] DEBUG: Scraped from <200 http://playnomore.co.kr/product/sold-out-winkygirl-color-blocks-2cm-multi/140/?cate_no=25&display_group=1>\n",
      "{'img': 'http://playnomore.co.kr/web/product/big/201701/140_shop7_744641.jpg',\n",
      " 'link': 'http://playnomore.co.kr/product/sold-out-winkygirl-color-blocks-2cm-multi/140/?cate_no=25&display_group=1',\n",
      " 'price': '$ 414',\n",
      " 'title': '[SOLD OUT] WINKYGIRL COLOR BLOCKS (2cm) multi'}\n",
      "2019-11-28 05:32:15 [scrapy.core.engine] DEBUG: Crawled (200) <GET http://playnomore.co.kr/product/sold-out-winkygirl-color-blocks-metallic-navy-5cm/20/?cate_no=25&display_group=1> (referer: http://playnomore.co.kr/category/shoes/25/)\n",
      "2019-11-28 05:32:15 [scrapy.core.scraper] DEBUG: Scraped from <200 http://playnomore.co.kr/product/sold-out-shy-lip-bloafer-champagne-gold/305/?cate_no=25&display_group=1>\n",
      "{'img': 'http://playnomore.co.kr/web/product/big/201706/305_shop7_443176.jpg',\n",
      " 'link': 'http://playnomore.co.kr/product/sold-out-shy-lip-bloafer-champagne-gold/305/?cate_no=25&display_group=1',\n",
      " 'price': '$ 480',\n",
      " 'title': '[SOLD OUT] SHY LIP bloafer champagne gold'}\n",
      "2019-11-28 05:32:15 [scrapy.core.scraper] DEBUG: Scraped from <200 http://playnomore.co.kr/product/sold-out-kiss-me-pink-beige/22/?cate_no=25&display_group=1>\n",
      "{'img': 'http://playnomore.co.kr/web/product/big/201702/22_shop7_242463.jpg',\n",
      " 'link': 'http://playnomore.co.kr/product/sold-out-kiss-me-pink-beige/22/?cate_no=25&display_group=1',\n",
      " 'price': '$ 450',\n",
      " 'title': '[SOLD OUT] KISS ME pink beige'}\n",
      "2019-11-28 05:32:15 [scrapy.core.scraper] DEBUG: Scraped from <200 http://playnomore.co.kr/product/sold-out-winkygirl-color-blocks-2cm-black/138/?cate_no=25&display_group=1>\n",
      "{'img': 'http://playnomore.co.kr/web/product/big/201701/138_shop7_619644.jpg',\n",
      " 'link': 'http://playnomore.co.kr/product/sold-out-winkygirl-color-blocks-2cm-black/138/?cate_no=25&display_group=1',\n",
      " 'price': '$ 414',\n",
      " 'title': '[SOLD OUT] WINKYGIRL COLOR BLOCKS  (2cm) black'}\n",
      "2019-11-28 05:32:15 [scrapy.core.scraper] DEBUG: Scraped from <200 http://playnomore.co.kr/product/sold-out-shy-friends-oxford-black/181/?cate_no=25&display_group=1>\n",
      "{'img': 'http://playnomore.co.kr/web/product/big/201702/181_shop7_374071.jpg',\n",
      " 'link': 'http://playnomore.co.kr/product/sold-out-shy-friends-oxford-black/181/?cate_no=25&display_group=1',\n",
      " 'price': '$ 450',\n",
      " 'title': '[SOLD OUT] SHY FRIENDS oxford black'}\n",
      "2019-11-28 05:32:15 [scrapy.core.engine] DEBUG: Crawled (200) <GET http://playnomore.co.kr/product/sold-out-winkygirl-color-blocks-5cm-metallic-pink/137/?cate_no=25&display_group=1> (referer: http://playnomore.co.kr/category/shoes/25/)\n",
      "2019-11-28 05:32:15 [scrapy.core.scraper] DEBUG: Scraped from <200 http://playnomore.co.kr/product/sold-out-kiss-me-deep-green/23/?cate_no=25&display_group=1>\n",
      "{'img': 'http://playnomore.co.kr/web/product/big/201702/23_shop7_151870.jpg',\n",
      " 'link': 'http://playnomore.co.kr/product/sold-out-kiss-me-deep-green/23/?cate_no=25&display_group=1',\n",
      " 'price': '$ 450',\n",
      " 'title': '[SOLD OUT] KISS ME deep green'}\n",
      "2019-11-28 05:32:15 [scrapy.core.scraper] DEBUG: Scraped from <200 http://playnomore.co.kr/product/sold-out-winkygirl-color-blocks-metallic-navy-5cm/20/?cate_no=25&display_group=1>\n",
      "{'img': 'http://playnomore.co.kr/web/product/big/201609/20_shop7_178984.jpg',\n",
      " 'link': 'http://playnomore.co.kr/product/sold-out-winkygirl-color-blocks-metallic-navy-5cm/20/?cate_no=25&display_group=1',\n",
      " 'price': '$ 414',\n",
      " 'title': '[SOLD OUT] WINKYGIRL COLOR BLOCKS metallic navy (5cm)'}\n",
      "2019-11-28 05:32:15 [scrapy.core.scraper] DEBUG: Scraped from <200 http://playnomore.co.kr/product/sold-out-winkygirl-color-blocks-5cm-metallic-pink/137/?cate_no=25&display_group=1>\n",
      "{'img': 'http://playnomore.co.kr/web/product/big/201701/137_shop7_918095.jpg',\n",
      " 'link': 'http://playnomore.co.kr/product/sold-out-winkygirl-color-blocks-5cm-metallic-pink/137/?cate_no=25&display_group=1',\n",
      " 'price': '$ 414',\n",
      " 'title': '[SOLD OUT] WINKYGIRL COLOR BLOCKS (5cm) metallic pink'}\n",
      "2019-11-28 05:32:15 [scrapy.core.engine] DEBUG: Crawled (200) <GET http://playnomore.co.kr/product/sold-out-shygirl-oxford-gold/233/?cate_no=25&display_group=1> (referer: http://playnomore.co.kr/category/shoes/25/)\n",
      "2019-11-28 05:32:15 [scrapy.core.engine] DEBUG: Crawled (200) <GET http://playnomore.co.kr/product/sold-out-shy-lip-bloafer-chrome/304/?cate_no=25&display_group=1> (referer: http://playnomore.co.kr/category/shoes/25/)\n",
      "2019-11-28 05:32:15 [scrapy.core.engine] DEBUG: Crawled (200) <GET http://playnomore.co.kr/product/sold-out-shygirl-oxford-silver/232/?cate_no=25&display_group=1> (referer: http://playnomore.co.kr/category/shoes/25/)\n",
      "2019-11-28 05:32:15 [scrapy.core.engine] DEBUG: Crawled (200) <GET http://playnomore.co.kr/product/sold-out-shygirl-oxford-chrome/207/?cate_no=25&display_group=1> (referer: http://playnomore.co.kr/category/shoes/25/)\n",
      "2019-11-28 05:32:15 [scrapy.core.engine] DEBUG: Crawled (200) <GET http://playnomore.co.kr/product/70-sale-finding-cinderella-winkygirl-color-blocks-5cm-silver-414/21/?cate_no=25&display_group=1> (referer: http://playnomore.co.kr/category/shoes/25/)\n",
      "2019-11-28 05:32:15 [scrapy.core.engine] DEBUG: Crawled (200) <GET http://playnomore.co.kr/product/sold-out-winkygirl-color-blocks-5cm-rose-gold/18/?cate_no=25&display_group=1> (referer: http://playnomore.co.kr/category/shoes/25/)\n",
      "2019-11-28 05:32:15 [scrapy.core.scraper] DEBUG: Scraped from <200 http://playnomore.co.kr/product/sold-out-shygirl-oxford-gold/233/?cate_no=25&display_group=1>\n",
      "{'img': 'http://playnomore.co.kr/web/product/big/201703/233_shop7_194677.jpg',\n",
      " 'link': 'http://playnomore.co.kr/product/sold-out-shygirl-oxford-gold/233/?cate_no=25&display_group=1',\n",
      " 'price': '$ 450',\n",
      " 'title': '[SOLD OUT] SHYGIRL oxford gold'}\n",
      "2019-11-28 05:32:15 [scrapy.core.engine] DEBUG: Crawled (200) <GET http://playnomore.co.kr/product/sold-out-winkygirl-color-blocks-5cm-multi/19/?cate_no=25&display_group=1> (referer: http://playnomore.co.kr/category/shoes/25/)\n",
      "2019-11-28 05:32:15 [scrapy.core.scraper] DEBUG: Scraped from <200 http://playnomore.co.kr/product/sold-out-shy-lip-bloafer-chrome/304/?cate_no=25&display_group=1>\n",
      "{'img': 'http://playnomore.co.kr/web/product/big/201706/304_shop7_862848.jpg',\n",
      " 'link': 'http://playnomore.co.kr/product/sold-out-shy-lip-bloafer-chrome/304/?cate_no=25&display_group=1',\n",
      " 'price': '$ 480',\n",
      " 'title': '[SOLD OUT] SHY LIP bloafer chrome'}\n",
      "2019-11-28 05:32:15 [scrapy.core.scraper] DEBUG: Scraped from <200 http://playnomore.co.kr/product/sold-out-shygirl-oxford-silver/232/?cate_no=25&display_group=1>\n",
      "{'img': 'http://playnomore.co.kr/web/product/big/201703/232_shop7_426702.jpg',\n",
      " 'link': 'http://playnomore.co.kr/product/sold-out-shygirl-oxford-silver/232/?cate_no=25&display_group=1',\n",
      " 'price': '$ 450',\n",
      " 'title': '[SOLD OUT] SHYGIRL oxford silver'}\n",
      "2019-11-28 05:32:15 [scrapy.core.scraper] DEBUG: Scraped from <200 http://playnomore.co.kr/product/sold-out-shygirl-oxford-chrome/207/?cate_no=25&display_group=1>\n",
      "{'img': 'http://playnomore.co.kr/web/product/big/201702/207_shop7_312513.jpg',\n",
      " 'link': 'http://playnomore.co.kr/product/sold-out-shygirl-oxford-chrome/207/?cate_no=25&display_group=1',\n",
      " 'price': '$ 450',\n",
      " 'title': '[SOLD OUT] SHYGIRL oxford chrome'}\n",
      "2019-11-28 05:32:15 [scrapy.core.scraper] DEBUG: Scraped from <200 http://playnomore.co.kr/product/70-sale-finding-cinderella-winkygirl-color-blocks-5cm-silver-414/21/?cate_no=25&display_group=1>\n",
      "{'img': 'http://playnomore.co.kr/web/product/big/201609/21_shop1_572305.jpg',\n",
      " 'link': 'http://playnomore.co.kr/product/70-sale-finding-cinderella-winkygirl-color-blocks-5cm-silver-414/21/?cate_no=25&display_group=1',\n",
      " 'price': '$ 125',\n",
      " 'title': '[70% SALE : Finding CINDERELLA] WINKYGIRL COLOR BLOCKS (5cm) '\n",
      "          'silver '}\n",
      "2019-11-28 05:32:15 [scrapy.core.scraper] DEBUG: Scraped from <200 http://playnomore.co.kr/product/sold-out-winkygirl-color-blocks-5cm-rose-gold/18/?cate_no=25&display_group=1>\n",
      "{'img': 'http://playnomore.co.kr/web/product/big/201702/18_shop7_183931.jpg',\n",
      " 'link': 'http://playnomore.co.kr/product/sold-out-winkygirl-color-blocks-5cm-rose-gold/18/?cate_no=25&display_group=1',\n",
      " 'price': '$ 414',\n",
      " 'title': '[SOLD OUT] WINKYGIRL COLOR BLOCKS (5cm) rose gold'}\n",
      "2019-11-28 05:32:15 [scrapy.core.scraper] DEBUG: Scraped from <200 http://playnomore.co.kr/product/sold-out-winkygirl-color-blocks-5cm-multi/19/?cate_no=25&display_group=1>\n",
      "{'img': 'http://playnomore.co.kr/web/product/big/201702/19_shop7_561442.jpg',\n",
      " 'link': 'http://playnomore.co.kr/product/sold-out-winkygirl-color-blocks-5cm-multi/19/?cate_no=25&display_group=1',\n",
      " 'price': '$ 414',\n",
      " 'title': '[SOLD OUT] WINKYGIRL COLOR BLOCKS (5cm) multi'}\n",
      "2019-11-28 05:32:15 [scrapy.core.engine] INFO: Closing spider (finished)\n",
      "2019-11-28 05:32:15 [scrapy.extensions.feedexport] INFO: Stored csv feed (15 items) in: playnomore2.csv\n",
      "2019-11-28 05:32:15 [scrapy.statscollectors] INFO: Dumping Scrapy stats:\n",
      "{'downloader/request_bytes': 15949,\n",
      " 'downloader/request_count': 32,\n",
      " 'downloader/request_method_count/GET': 32,\n",
      " 'downloader/response_bytes': 303459,\n",
      " 'downloader/response_count': 32,\n",
      " 'downloader/response_status_count/200': 17,\n",
      " 'downloader/response_status_count/301': 15,\n",
      " 'elapsed_time_seconds': 1.358266,\n",
      " 'finish_reason': 'finished',\n",
      " 'finish_time': datetime.datetime(2019, 11, 28, 5, 32, 15, 759886),\n",
      " 'item_scraped_count': 15,\n",
      " 'log_count/DEBUG': 47,\n",
      " 'log_count/INFO': 11,\n",
      " 'memusage/max': 53788672,\n",
      " 'memusage/startup': 53788672,\n",
      " 'request_depth_max': 1,\n",
      " 'response_received_count': 17,\n",
      " 'robotstxt/request_count': 1,\n",
      " 'robotstxt/response_count': 1,\n",
      " 'robotstxt/response_status_count/200': 1,\n",
      " 'scheduler/dequeued': 31,\n",
      " 'scheduler/dequeued/memory': 31,\n",
      " 'scheduler/enqueued': 31,\n",
      " 'scheduler/enqueued/memory': 31,\n",
      " 'start_time': datetime.datetime(2019, 11, 28, 5, 32, 14, 401620)}\n",
      "2019-11-28 05:32:15 [scrapy.core.engine] INFO: Spider closed (finished)\n"
     ]
    }
   ],
   "source": [
    "!./run.sh"
   ]
  },
  {
   "cell_type": "code",
   "execution_count": null,
   "metadata": {
    "id": "ZOu4NCZl99rW",
    "outputId": "9ef05300-79d4-4f20-dbb8-7a156a720b0a"
   },
   "outputs": [
    {
     "data": {
      "text/html": [
       "<div>\n",
       "<style scoped>\n",
       "    .dataframe tbody tr th:only-of-type {\n",
       "        vertical-align: middle;\n",
       "    }\n",
       "\n",
       "    .dataframe tbody tr th {\n",
       "        vertical-align: top;\n",
       "    }\n",
       "\n",
       "    .dataframe thead th {\n",
       "        text-align: right;\n",
       "    }\n",
       "</style>\n",
       "<table border=\"1\" class=\"dataframe\">\n",
       "  <thead>\n",
       "    <tr style=\"text-align: right;\">\n",
       "      <th></th>\n",
       "      <th>img</th>\n",
       "      <th>link</th>\n",
       "      <th>price</th>\n",
       "      <th>title</th>\n",
       "    </tr>\n",
       "  </thead>\n",
       "  <tbody>\n",
       "    <tr>\n",
       "      <th>14</th>\n",
       "      <td>http://playnomore.co.kr/web/product/big/201702...</td>\n",
       "      <td>http://playnomore.co.kr/product/sold-out-winky...</td>\n",
       "      <td>$ 414</td>\n",
       "      <td>[SOLD OUT] WINKYGIRL COLOR BLOCKS (5cm) multi</td>\n",
       "    </tr>\n",
       "  </tbody>\n",
       "</table>\n",
       "</div>"
      ],
      "text/plain": [
       "                                                  img  \\\n",
       "14  http://playnomore.co.kr/web/product/big/201702...   \n",
       "\n",
       "                                                 link  price  \\\n",
       "14  http://playnomore.co.kr/product/sold-out-winky...  $ 414   \n",
       "\n",
       "                                            title  \n",
       "14  [SOLD OUT] WINKYGIRL COLOR BLOCKS (5cm) multi  "
      ]
     },
     "execution_count": 53,
     "metadata": {},
     "output_type": "execute_result"
    }
   ],
   "source": [
    "import pandas as pd\n",
    "df = pd.read_csv(\"playnomore/playnomore2.csv\")\n",
    "df.tail(1)"
   ]
  },
  {
   "cell_type": "markdown",
   "metadata": {
    "id": "97RBbFi-99rW"
   },
   "source": [
    "#### 6. Mongodb에 저장\n",
    "- pymongo를 pipelines.py에 적용\n",
    "- pip install pymongo==2.8.1"
   ]
  },
  {
   "cell_type": "code",
   "execution_count": null,
   "metadata": {
    "id": "p-pas_dN99rW",
    "outputId": "07042f7f-5b90-4611-f640-c83bad0ab8eb"
   },
   "outputs": [
    {
     "name": "stdout",
     "output_type": "stream",
     "text": [
      "pymongo               2.8.1    \r\n"
     ]
    }
   ],
   "source": [
    "!pip list | grep pymongo"
   ]
  },
  {
   "cell_type": "code",
   "execution_count": null,
   "metadata": {
    "id": "e59wpoVe99rW"
   },
   "outputs": [],
   "source": [
    "import pymongo"
   ]
  },
  {
   "cell_type": "code",
   "execution_count": null,
   "metadata": {
    "id": "NMolBtZB99rW",
    "outputId": "25c782ad-c5f2-4ca9-9630-662e48fe04cd"
   },
   "outputs": [
    {
     "data": {
      "text/plain": [
       "MongoClient('13.125.153.195', 27017)"
      ]
     },
     "execution_count": 56,
     "metadata": {},
     "output_type": "execute_result"
    }
   ],
   "source": [
    "client = pymongo.MongoClient('mongodb://13.125.153.195:27017/')\n",
    "client"
   ]
  },
  {
   "cell_type": "code",
   "execution_count": null,
   "metadata": {
    "id": "5ZeJWbux99rX",
    "outputId": "5eb8b506-9276-4905-e353-01687fcdd833"
   },
   "outputs": [
    {
     "data": {
      "text/plain": [
       "Collection(Database(MongoClient('13.125.153.195', 27017), 'playnomore'), 'shoes')"
      ]
     },
     "execution_count": 57,
     "metadata": {},
     "output_type": "execute_result"
    }
   ],
   "source": [
    "db = client.playnomore\n",
    "collection = db.shoes\n",
    "collection"
   ]
  },
  {
   "cell_type": "code",
   "execution_count": null,
   "metadata": {
    "id": "DapmP7uF99rX",
    "outputId": "aa4f4341-2065-413b-efd5-cb7a475b1381"
   },
   "outputs": [
    {
     "data": {
      "text/plain": [
       "ObjectId('5ddf5e60a54763659f6c9813')"
      ]
     },
     "execution_count": 58,
     "metadata": {},
     "output_type": "execute_result"
    }
   ],
   "source": [
    "data = {\"title\":\"신발\"}\n",
    "collection.insert(data)"
   ]
  },
  {
   "cell_type": "markdown",
   "metadata": {
    "id": "_HeFUXpK99rX"
   },
   "source": [
    "##### Mongodb 모듈 파일 생성"
   ]
  },
  {
   "cell_type": "code",
   "execution_count": null,
   "metadata": {
    "id": "rBQqK-EV99rX",
    "outputId": "9b06956c-5883-451e-ab85-b19a39e51bf5"
   },
   "outputs": [
    {
     "name": "stdout",
     "output_type": "stream",
     "text": [
      "Writing playnomore/playnomore/mongodb.py\n"
     ]
    }
   ],
   "source": [
    "%%writefile playnomore/playnomore/mongodb.py\n",
    "import pymongo\n",
    "\n",
    "client = pymongo.MongoClient('mongodb://13.125.153.195:27017/')\n",
    "db = client.playnomore\n",
    "collection = db.shoes"
   ]
  },
  {
   "cell_type": "code",
   "execution_count": null,
   "metadata": {
    "id": "NWIQjjyB99rX",
    "outputId": "857df00f-68db-437a-a884-ff5489b9a424"
   },
   "outputs": [
    {
     "name": "stdout",
     "output_type": "stream",
     "text": [
      "Overwriting playnomore/playnomore/pipelines.py\n"
     ]
    }
   ],
   "source": [
    "%%writefile playnomore/playnomore/pipelines.py\n",
    "from .mongodb import collection\n",
    "\n",
    "class PlaynomorePipeline(object):\n",
    "    \n",
    "    def process_item(self, item, spider):\n",
    "        \n",
    "        data = { \"title\": item[\"title\"], \n",
    "                 \"price\": item[\"price\"],\n",
    "                 \"img\": item[\"img\"], \n",
    "                 \"link\": item[\"link\"],\n",
    "               }\n",
    "        \n",
    "        collection.insert(data)\n",
    "        \n",
    "        return item"
   ]
  },
  {
   "cell_type": "code",
   "execution_count": null,
   "metadata": {
    "id": "PwoMvJCn99rX"
   },
   "outputs": [],
   "source": [
    "!echo \"ITEM_PIPELINES = {\"  >> playnomore/playnomore/settings.py"
   ]
  },
  {
   "cell_type": "code",
   "execution_count": null,
   "metadata": {
    "id": "D1MdcAGP99rX"
   },
   "outputs": [],
   "source": [
    "!echo \"   'playnomore.pipelines.PlaynomorePipeline': 300,\" >> playnomore/playnomore/settings.py"
   ]
  },
  {
   "cell_type": "code",
   "execution_count": null,
   "metadata": {
    "id": "2MuNTnxn99rY"
   },
   "outputs": [],
   "source": [
    "!echo \"}\" >> playnomore/playnomore/settings.py"
   ]
  },
  {
   "cell_type": "code",
   "execution_count": null,
   "metadata": {
    "id": "1HGhgFGw99rY",
    "outputId": "8f118865-2ae2-4378-a33f-958c05014bd7"
   },
   "outputs": [
    {
     "name": "stdout",
     "output_type": "stream",
     "text": [
      "#HTTPCACHE_IGNORE_HTTP_CODES = []\r\n",
      "#HTTPCACHE_STORAGE = 'scrapy.extensions.httpcache.FilesystemCacheStorage'\r\n",
      "ITEM_PIPELINES = {\r\n",
      "    playnomore.pipelines.PlaynomorePipeline: 300,\r\n",
      "}\r\n"
     ]
    }
   ],
   "source": [
    "!tail -n 5 playnomore/playnomore/settings.py"
   ]
  },
  {
   "cell_type": "code",
   "execution_count": null,
   "metadata": {
    "id": "S7933v6499rY",
    "outputId": "1c2a5207-8e8e-4ce5-ddc9-a9a9fe7bc89c"
   },
   "outputs": [
    {
     "name": "stdout",
     "output_type": "stream",
     "text": [
      "cd playnomore\r\n",
      "scrapy crawl Playnomore -o playnomore2.csv -a category1=shoes -a category2=25\r\n"
     ]
    }
   ],
   "source": [
    "!cat run.sh"
   ]
  },
  {
   "cell_type": "code",
   "execution_count": null,
   "metadata": {
    "id": "wuWut6PN99rY",
    "outputId": "c9951b68-5717-4a7a-d093-1025c03da1ee"
   },
   "outputs": [
    {
     "name": "stdout",
     "output_type": "stream",
     "text": [
      "Traceback (most recent call last):\r\n",
      "  File \"/home/ubuntu/.pyenv/versions/python3/bin/scrapy\", line 8, in <module>\r\n",
      "    sys.exit(execute())\r\n",
      "  File \"/home/ubuntu/.pyenv/versions/3.6.9/envs/python3/lib/python3.6/site-packages/scrapy/cmdline.py\", line 114, in execute\r\n",
      "    settings = get_project_settings()\r\n",
      "  File \"/home/ubuntu/.pyenv/versions/3.6.9/envs/python3/lib/python3.6/site-packages/scrapy/utils/project.py\", line 69, in get_project_settings\r\n",
      "    settings.setmodule(settings_module_path, priority='project')\r\n",
      "  File \"/home/ubuntu/.pyenv/versions/3.6.9/envs/python3/lib/python3.6/site-packages/scrapy/settings/__init__.py\", line 294, in setmodule\r\n",
      "    module = import_module(module)\r\n",
      "  File \"/home/ubuntu/.pyenv/versions/3.6.9/lib/python3.6/importlib/__init__.py\", line 126, in import_module\r\n",
      "    return _bootstrap._gcd_import(name[level:], package, level)\r\n",
      "  File \"<frozen importlib._bootstrap>\", line 994, in _gcd_import\r\n",
      "  File \"<frozen importlib._bootstrap>\", line 971, in _find_and_load\r\n",
      "  File \"<frozen importlib._bootstrap>\", line 955, in _find_and_load_unlocked\r\n",
      "  File \"<frozen importlib._bootstrap>\", line 665, in _load_unlocked\r\n",
      "  File \"<frozen importlib._bootstrap_external>\", line 678, in exec_module\r\n",
      "  File \"<frozen importlib._bootstrap>\", line 219, in _call_with_frames_removed\r\n",
      "  File \"/home/ubuntu/python3/notebook/scrapy/playnomore/playnomore/settings.py\", line 92, in <module>\r\n",
      "    playnomore.pipelines.PlaynomorePipeline: 300,\r\n",
      "NameError: name 'playnomore' is not defined\r\n"
     ]
    }
   ],
   "source": [
    "!./run.sh"
   ]
  },
  {
   "cell_type": "code",
   "execution_count": null,
   "metadata": {
    "id": "UjdeAgfE99rY"
   },
   "outputs": [],
   "source": []
  },
  {
   "cell_type": "code",
   "execution_count": null,
   "metadata": {
    "id": "IIu7Zl6Y99rY"
   },
   "outputs": [],
   "source": []
  },
  {
   "cell_type": "code",
   "execution_count": null,
   "metadata": {
    "id": "BQ49b0Ou99rY"
   },
   "outputs": [],
   "source": []
  },
  {
   "cell_type": "code",
   "execution_count": null,
   "metadata": {
    "id": "Fn9p2TF999rY"
   },
   "outputs": [],
   "source": []
  },
  {
   "cell_type": "code",
   "execution_count": null,
   "metadata": {
    "id": "y2eJ6got99rY"
   },
   "outputs": [],
   "source": []
  }
 ],
 "metadata": {
  "colab": {
   "name": "04_scrapy_playnomore.ipynb",
   "provenance": []
  },
  "kernelspec": {
   "display_name": "Python 3",
   "language": "python",
   "name": "python3"
  },
  "language_info": {
   "codemirror_mode": {
    "name": "ipython",
    "version": 3
   },
   "file_extension": ".py",
   "mimetype": "text/x-python",
   "name": "python",
   "nbconvert_exporter": "python",
   "pygments_lexer": "ipython3",
   "version": "3.8.8"
  }
 },
 "nbformat": 4,
 "nbformat_minor": 1
}
